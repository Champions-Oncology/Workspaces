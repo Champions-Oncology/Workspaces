{
 "cells": [
  {
   "cell_type": "markdown",
   "metadata": {},
   "source": [
    "- title: \"Workflow\"\n",
    "- author: \"Margaret Paiva\"\n",
    "- output: Python notebook"
   ]
  },
  {
   "cell_type": "code",
   "execution_count": 30,
   "metadata": {
    "id": "2pYgoK9uJMoJ"
   },
   "outputs": [],
   "source": [
    "import matplotlib.pyplot as plt\n",
    "import seaborn as sns\n",
    "import pandas as pd\n",
    "import numpy as np\n",
    "from pathlib import Path\n",
    "from statistics import median\n",
    "import gzip\n",
    "import scipy.io\n",
    "import scanpy as sc"
   ]
  },
  {
   "cell_type": "markdown",
   "metadata": {
    "id": "1EvbEBUsTwQF"
   },
   "source": [
    "# Part 1. Load and filter data"
   ]
  },
  {
   "cell_type": "code",
   "execution_count": null,
   "metadata": {
    "colab": {
     "base_uri": "https://localhost:8080/",
     "height": 473
    },
    "id": "DybvqK1HWMyV",
    "outputId": "a7c82ca9-ae84-4c4f-e7be-4308ad18f7c8"
   },
   "outputs": [],
   "source": [
    "######\n",
    "# data at Amazon S3/Buckets/championsoncology.integration/omics/\n",
    "######\n",
    "# The dataset is very large - please don't commit to github\n",
    "######\n",
    "filename = \"../data/S0001_astrocytoma_GSE89567_RAW.txt.gz\"\n",
    "raw = pd.read_csv(filename, compression='gzip', sep='\\t', index_col=0)\n",
    "raw.index = [gene.strip(\"'\") for gene in raw.index]\n",
    "raw"
   ]
  },
  {
   "cell_type": "code",
   "execution_count": null,
   "metadata": {
    "scrolled": false
   },
   "outputs": [],
   "source": [
    "# start = raw.columns.str.find('_') + 1\n",
    "# names = [s[i:(i+3)].replace('_', '') for s, i in zip(raw.columns, start)]"
   ]
  },
  {
   "cell_type": "code",
   "execution_count": null,
   "metadata": {},
   "outputs": [],
   "source": [
    "sc.pl.highest_expr_genes(adata, n_top=20, )"
   ]
  },
  {
   "cell_type": "markdown",
   "metadata": {
    "id": "67Nsv-ditxma"
   },
   "source": [
    "## Library size"
   ]
  },
  {
   "cell_type": "code",
   "execution_count": null,
   "metadata": {
    "colab": {
     "base_uri": "https://localhost:8080/"
    },
    "id": "Iha95W4XgMcI",
    "outputId": "005ff5d2-9681-494f-ac74-82ae04ac4f5f"
   },
   "outputs": [],
   "source": [
    "ls = np.sum(raw, axis=0)  # library size\n",
    "ls.shape"
   ]
  },
  {
   "cell_type": "code",
   "execution_count": null,
   "metadata": {
    "colab": {
     "base_uri": "https://localhost:8080/",
     "height": 453
    },
    "id": "iGASS4tLuKX3",
    "outputId": "48482588-108b-4f59-bc7e-ba35ed4a465d"
   },
   "outputs": [],
   "source": [
    "sc.settings.set_figure_params(dpi=80)\n",
    "sns.set(color_codes=True)\n",
    "\n",
    "plt.figure(figsize=(8, 8))\n",
    "sns.displot(np.log10(ls))\n",
    "plt.title('Histogram of log10 of library size')\n",
    "plt.ylabel('Frequency')"
   ]
  },
  {
   "cell_type": "markdown",
   "metadata": {
    "id": "43_qzV4BiCh4"
   },
   "source": [
    "## Number of cells per gene"
   ]
  },
  {
   "cell_type": "code",
   "execution_count": null,
   "metadata": {
    "colab": {
     "base_uri": "https://localhost:8080/"
    },
    "id": "0-MIrk3P61kV",
    "outputId": "6963d9d6-dd1c-41a1-cc77-c616405c022a"
   },
   "outputs": [],
   "source": [
    "num_cells = np.sum(raw>0, axis=1)\n",
    "\n",
    "# Add 1 to those genes that are expressed in 0 cells for log calculation\n",
    "num_cells[num_cells==0] = 1  \n",
    "num_cells.shape"
   ]
  },
  {
   "cell_type": "code",
   "execution_count": null,
   "metadata": {
    "colab": {
     "base_uri": "https://localhost:8080/",
     "height": 437
    },
    "id": "zvRGFqiO9y-z",
    "outputId": "50db709f-74f1-4c93-a02b-520655ec9c06"
   },
   "outputs": [],
   "source": [
    "plt.figure(figsize=(8, 8))\n",
    "sns.displot(np.log10(num_cells))\n",
    "plt.title('Histogram of log10 of the number of cells per gene')\n",
    "plt.ylabel('Density')"
   ]
  },
  {
   "cell_type": "markdown",
   "metadata": {
    "id": "J77qyNypo6jN"
   },
   "source": [
    "# Part 2. Normalization"
   ]
  },
  {
   "cell_type": "code",
   "execution_count": null,
   "metadata": {
    "colab": {
     "base_uri": "https://localhost:8080/"
    },
    "id": "ULu2KffvVn9U",
    "outputId": "e598b163-11f7-4852-872f-19ead5fa323b"
   },
   "outputs": [],
   "source": [
    "# Convert to AnnData\n",
    "adata = sc.AnnData(raw.transpose())\n",
    "\n",
    "# # Add library size as n_counts column\n",
    "# adata.obs['n_counts'] = np.nansum(raw, axis=0)\n",
    "\n",
    "adata"
   ]
  },
  {
   "cell_type": "code",
   "execution_count": null,
   "metadata": {
    "colab": {
     "base_uri": "https://localhost:8080/"
    },
    "id": "aqSS9qMMCwrd",
    "outputId": "24cc4cab-1505-4599-d362-08229de53299"
   },
   "outputs": [],
   "source": [
    "min_counts = 10**3.8 # keep cells with at least min_counts counts\n",
    "min_cells = 10**0 # Keep genes that have at least min_cells cells\n",
    "sc.pp.filter_cells(adata, min_counts=min_counts)\n",
    "sc.pp.filter_genes(adata, min_cells=min_cells)\n",
    "\n",
    "adata"
   ]
  },
  {
   "cell_type": "code",
   "execution_count": null,
   "metadata": {
    "colab": {
     "base_uri": "https://localhost:8080/"
    },
    "id": "Al2EraiwUmf8",
    "outputId": "e6a39958-72d1-4273-f062-b3871e076a72"
   },
   "outputs": [],
   "source": [
    "# Normalization\n",
    "sc.pp.normalize_total(adata)"
   ]
  },
  {
   "cell_type": "code",
   "execution_count": null,
   "metadata": {
    "colab": {
     "base_uri": "https://localhost:8080/"
    },
    "id": "UgbX6_mntHkR",
    "outputId": "d1e48857-571a-41d5-b9b3-f969c6e79a47"
   },
   "outputs": [],
   "source": [
    "# Double check the normalization result - each cell should have total counts = median_ls\n",
    "adata.X.sum(axis=1)"
   ]
  },
  {
   "cell_type": "code",
   "execution_count": null,
   "metadata": {
    "colab": {
     "base_uri": "https://localhost:8080/"
    },
    "id": "6I8kGFoQrZjC",
    "outputId": "2c575a32-1838-47ca-8745-4c6f1c843add"
   },
   "outputs": [],
   "source": [
    "np.any(np.isnan(raw))"
   ]
  },
  {
   "cell_type": "markdown",
   "metadata": {
    "id": "y3MzU5-tbktS"
   },
   "source": [
    "# Part 3. Dimensionality reduction"
   ]
  },
  {
   "cell_type": "code",
   "execution_count": null,
   "metadata": {
    "colab": {
     "base_uri": "https://localhost:8080/",
     "height": 476
    },
    "id": "_UpbhlTUZvgr",
    "outputId": "f33af197-497e-432a-dd2f-0eb263f84195"
   },
   "outputs": [],
   "source": [
    "sc.settings.set_figure_params(dpi=100)\n",
    "\n",
    "sc.pp.log1p(adata)\n",
    "\n",
    "# Use PCA and decide the number of principle components in Umap\n",
    "sc.tl.pca(adata)\n",
    "sc.pl.pca_variance_ratio(adata, log=True)"
   ]
  },
  {
   "cell_type": "code",
   "execution_count": null,
   "metadata": {},
   "outputs": [],
   "source": [
    "sc.pl.pca(adata, color='EGFR')"
   ]
  },
  {
   "cell_type": "code",
   "execution_count": null,
   "metadata": {
    "colab": {
     "base_uri": "https://localhost:8080/",
     "height": 501
    },
    "id": "30uOmGjIwsCQ",
    "outputId": "e25868b7-4c60-455d-b59f-1914f25ea1a8"
   },
   "outputs": [],
   "source": [
    "# Based on the figures above, choose the number of principle components\n",
    "sc.pp.neighbors(adata, n_neighbors=50, n_pcs=30)\n",
    "sc.tl.umap(adata)\n",
    "sc.pl.umap(adata)"
   ]
  },
  {
   "cell_type": "markdown",
   "metadata": {
    "id": "Tu1ozfjLkk1h"
   },
   "source": [
    "# Part 4. Cluster cells based on marker genes"
   ]
  },
  {
   "cell_type": "code",
   "execution_count": null,
   "metadata": {
    "colab": {
     "base_uri": "https://localhost:8080/",
     "height": 470
    },
    "id": "9A8TO6pikwYb",
    "outputId": "47ea5c02-68f5-42f1-87ef-f18fed2c4d6d"
   },
   "outputs": [],
   "source": [
    "sc.tl.leiden(adata, resolution=0.5)\n",
    "adata.obs"
   ]
  },
  {
   "cell_type": "code",
   "execution_count": null,
   "metadata": {
    "colab": {
     "base_uri": "https://localhost:8080/",
     "height": 405
    },
    "id": "9NdHtkFX5Tbf",
    "outputId": "839b0bd6-17b1-491f-d652-f011755dabc6"
   },
   "outputs": [],
   "source": [
    "sc.pl.umap(adata, color='leiden')"
   ]
  },
  {
   "cell_type": "code",
   "execution_count": null,
   "metadata": {},
   "outputs": [],
   "source": [
    "# start = adata.obs.index.str.find('_') + 1\n",
    "# adata.obs['batch'] = [s[i:(i+3)].replace('_', '') for s, i in zip(adata.obs.index, start)]\n",
    "adata.obs['batch'] = adata.obs.index.str[0:6]\n",
    "adata.obs"
   ]
  },
  {
   "cell_type": "code",
   "execution_count": null,
   "metadata": {},
   "outputs": [],
   "source": [
    "# sc.pl.umap(adata, color='batch')"
   ]
  },
  {
   "cell_type": "code",
   "execution_count": null,
   "metadata": {},
   "outputs": [],
   "source": [
    "sc.pl.umap(adata, color=['EGFR', 'CD74'])"
   ]
  },
  {
   "cell_type": "code",
   "execution_count": null,
   "metadata": {},
   "outputs": [],
   "source": [
    "sc.tl.rank_genes_groups(adata, 'leiden', method='wilcoxon')\n",
    "sc.pl.rank_genes_groups(adata, n_genes=25, sharey=False)"
   ]
  },
  {
   "cell_type": "code",
   "execution_count": null,
   "metadata": {
    "colab": {
     "base_uri": "https://localhost:8080/",
     "height": 870
    },
    "id": "KwCPCTgUegiT",
    "outputId": "6878fd37-d163-4a5b-f522-c5cc581aef62"
   },
   "outputs": [],
   "source": [
    "# Decide what marker genes to be marked for each cluster\n",
    "sc.settings.set_figure_params(dpi=150)\n",
    "marker_genes = [\n",
    "                \"EGFR\", # tumor cell markers\n",
    "                \"NOVA1\",  \n",
    "                \"UCHL1\",\n",
    "                \"CD14\",   # macrophage markers\n",
    "                \"CD68\",\n",
    "                \"CD74\"\n",
    "                ]\n",
    "\n",
    "sc.pl.dotplot(adata, marker_genes, groupby='leiden')"
   ]
  },
  {
   "cell_type": "code",
   "execution_count": null,
   "metadata": {
    "colab": {
     "base_uri": "https://localhost:8080/",
     "height": 714
    },
    "id": "Dn2jsLiqZR8M",
    "outputId": "3f0d4e73-2a37-4e9a-b4a7-a39e78650b4d"
   },
   "outputs": [],
   "source": [
    "cluster_names = [\n",
    "                 'Transformed1', #0\n",
    "                 'Transformed2', #1\n",
    "                 'Macrophage1', #2\n",
    "                 'Transformed3', #3\n",
    "                 'Transformed4', #4\n",
    "                 'Transformed5', #5\n",
    "                 'Transformed6', #6\n",
    "                 'Transformed7', #7\n",
    "                 'Transformed8', #8\n",
    "                 'Macrophage2', #9\n",
    "                 'Transformed9', #10\n",
    "                 'Transformed10', #11\n",
    "                 'Transformed11', #12\n",
    "                 'Transformed12', #13\n",
    "                 'Macrophage', #14\n",
    "                ]\n",
    "\n",
    "adata.rename_categories('leiden', cluster_names)\n",
    "\n",
    "sc.settings.set_figure_params(dpi=200)\n",
    "sc.pl.umap(adata, color='leiden', legend_loc='on data', \n",
    "           title='', legend_fontsize=5)"
   ]
  }
 ],
 "metadata": {
  "colab": {
   "collapsed_sections": [],
   "name": "clustering_batchcorrected.ipynb",
   "provenance": [],
   "toc_visible": true
  },
  "kernelspec": {
   "display_name": "Python 3 (ipykernel)",
   "language": "python",
   "name": "python3"
  },
  "language_info": {
   "codemirror_mode": {
    "name": "ipython",
    "version": 3
   },
   "file_extension": ".py",
   "mimetype": "text/x-python",
   "name": "python",
   "nbconvert_exporter": "python",
   "pygments_lexer": "ipython3",
   "version": "3.10.2"
  }
 },
 "nbformat": 4,
 "nbformat_minor": 1
}
