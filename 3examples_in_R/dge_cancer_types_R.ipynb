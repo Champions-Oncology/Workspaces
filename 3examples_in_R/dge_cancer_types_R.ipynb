{
 "cells": [
  {
   "cell_type": "markdown",
   "id": "649b0c34",
   "metadata": {},
   "source": [
    "### Example notebook - differential gene expression for different cancer types\n",
    "\n",
    "This notebook demonstrates reading from API and performing analysis of differential gene expression.\n",
    "- title: \"DGE - Cancer Types\"\n",
    "- author: \"Margaret Paiva\"\n",
    "- date: \"21/10/2021\"\n",
    "- output: R notebook"
   ]
  },
  {
   "cell_type": "markdown",
   "id": "9ec0f791",
   "metadata": {},
   "source": [
    "### 1. Dependencies"
   ]
  },
  {
   "cell_type": "code",
   "execution_count": 10,
   "id": "a2af0ecd",
   "metadata": {},
   "outputs": [],
   "source": [
    "# cran packages\n",
    "x <- c('jsonlite',\n",
    "       'rjson',\n",
    "       'httr',   \n",
    "       'dplyr', \n",
    "       'data.table', \n",
    "       'parallel', \n",
    "       'DBI', \n",
    "       'DT', \n",
    "       'tidyr', \n",
    "       'tibble', \n",
    "       'ggplot2')\n",
    "# bioconductor packages\n",
    "y <- c('limma', \n",
    "       'fgsea')"
   ]
  },
  {
   "cell_type": "code",
   "execution_count": 11,
   "id": "3b16bef5",
   "metadata": {},
   "outputs": [],
   "source": [
    "# install cran packages\n",
    "for (pkg in x) {\n",
    "    if (!pkg %in% rownames(installed.packages())) {install.packages(pkg)}\n",
    "}"
   ]
  },
  {
   "cell_type": "code",
   "execution_count": 12,
   "id": "17583996",
   "metadata": {},
   "outputs": [],
   "source": [
    "# install bioconductor packages\n",
    "if (!requireNamespace(\"BiocManager\", quietly=TRUE))\n",
    "    install.packages(\"BiocManager\")\n",
    "for (pkg in y) {\n",
    "    if (!requireNamespace(pkg, quietly=TRUE)) {\n",
    "        BiocManager::install(pkg)\n",
    "    }\n",
    "}"
   ]
  },
  {
   "cell_type": "code",
   "execution_count": 13,
   "id": "1a0466c4",
   "metadata": {},
   "outputs": [],
   "source": [
    "# load packages\n",
    "load_lib <- function(x) {\n",
    "    suppressPackageStartupMessages(library(x, character.only = TRUE))\n",
    "}\n",
    "invisible(lapply(c(x, y), load_lib))"
   ]
  },
  {
   "cell_type": "markdown",
   "id": "7d6b9429",
   "metadata": {},
   "source": [
    "### 2. Request data from API"
   ]
  },
  {
   "cell_type": "markdown",
   "id": "a876e1ae",
   "metadata": {},
   "source": [
    "Request data from API using the files at https://github.com/Champions-Oncology/Workspaces/tree/main/1starter_data_request.\n",
    "\n",
    "This notebook used the following options to request data: \n",
    "\n",
    "(This notebook used [this example list of genes](https://github.com/Champions-Oncology/Workspaces/blob/main/gene_list.csv). You may define your genes of interest in a .csv file and use it in the data requesting file.)\n",
    "- table=\"expression\",\n",
    "- cancer_type=[\"Renal cell carcinoma\", \"Prostate\", \"Adenoid cystic carcinoma\", \"Breast\", \"Thyroid\", \"Testicular\", \"Hepatocellular carcinoma\", \"Melanoma\"],\n",
    "- genes=list(genes_df['gene']),\n",
    "- source = \"PDX\"\n",
    "\n",
    "(For example, if you use the data_request.ipynb in Python, these are the options in the `df, location = request_data()` function.)"
   ]
  },
  {
   "cell_type": "markdown",
   "id": "f7fde4c4",
   "metadata": {},
   "source": [
    "### 3. Read data"
   ]
  },
  {
   "cell_type": "code",
   "execution_count": 19,
   "id": "dd37d55d",
   "metadata": {},
   "outputs": [
    {
     "data": {
      "text/html": [
       "<table class=\"dataframe\">\n",
       "<caption>A data.table: 2 × 7</caption>\n",
       "<thead>\n",
       "\t<tr><th scope=col>gene</th><th scope=col>model</th><th scope=col>model_name</th><th scope=col>log.tpm</th><th scope=col>z</th><th scope=col>fold</th><th scope=col>tumor_type</th></tr>\n",
       "\t<tr><th scope=col>&lt;chr&gt;</th><th scope=col>&lt;chr&gt;</th><th scope=col>&lt;chr&gt;</th><th scope=col>&lt;dbl&gt;</th><th scope=col>&lt;dbl&gt;</th><th scope=col>&lt;dbl&gt;</th><th scope=col>&lt;chr&gt;</th></tr>\n",
       "</thead>\n",
       "<tbody>\n",
       "\t<tr><td>ACSM3</td><td>CTG-3501</td><td>CTG-3501</td><td>2.7411490</td><td>-0.1693172</td><td>0.8765697</td><td>Breast</td></tr>\n",
       "\t<tr><td>COPZ2</td><td>CTG-3501</td><td>CTG-3501</td><td>0.7995996</td><td>-0.9946150</td><td>0.1851744</td><td>Breast</td></tr>\n",
       "</tbody>\n",
       "</table>\n"
      ],
      "text/latex": [
       "A data.table: 2 × 7\n",
       "\\begin{tabular}{lllllll}\n",
       " gene & model & model\\_name & log.tpm & z & fold & tumor\\_type\\\\\n",
       " <chr> & <chr> & <chr> & <dbl> & <dbl> & <dbl> & <chr>\\\\\n",
       "\\hline\n",
       "\t ACSM3 & CTG-3501 & CTG-3501 & 2.7411490 & -0.1693172 & 0.8765697 & Breast\\\\\n",
       "\t COPZ2 & CTG-3501 & CTG-3501 & 0.7995996 & -0.9946150 & 0.1851744 & Breast\\\\\n",
       "\\end{tabular}\n"
      ],
      "text/markdown": [
       "\n",
       "A data.table: 2 × 7\n",
       "\n",
       "| gene &lt;chr&gt; | model &lt;chr&gt; | model_name &lt;chr&gt; | log.tpm &lt;dbl&gt; | z &lt;dbl&gt; | fold &lt;dbl&gt; | tumor_type &lt;chr&gt; |\n",
       "|---|---|---|---|---|---|---|\n",
       "| ACSM3 | CTG-3501 | CTG-3501 | 2.7411490 | -0.1693172 | 0.8765697 | Breast |\n",
       "| COPZ2 | CTG-3501 | CTG-3501 | 0.7995996 | -0.9946150 | 0.1851744 | Breast |\n",
       "\n"
      ],
      "text/plain": [
       "  gene  model    model_name log.tpm   z          fold      tumor_type\n",
       "1 ACSM3 CTG-3501 CTG-3501   2.7411490 -0.1693172 0.8765697 Breast    \n",
       "2 COPZ2 CTG-3501 CTG-3501   0.7995996 -0.9946150 0.1851744 Breast    "
      ]
     },
     "metadata": {},
     "output_type": "display_data"
    },
    {
     "name": "stdout",
     "output_type": "stream",
     "text": [
      "[1] 82800     7\n"
     ]
    }
   ],
   "source": [
    "# Create a dataframe from the data\n",
    "df  <- fread(\"../data/pdx_expression_gene_list_multi_cancer.csv\")  # change to where you saved your .csv file and file name\n",
    "df$tumor_type  <- as.character(df$tumor_type)\n",
    "df$z  <- as.numeric(df$z)\n",
    "head(df, 2)\n",
    "print(dim(df))"
   ]
  },
  {
   "cell_type": "markdown",
   "id": "84d21845",
   "metadata": {},
   "source": [
    "### 4. Define the gene of interest"
   ]
  },
  {
   "cell_type": "code",
   "execution_count": 20,
   "id": "63ef4004",
   "metadata": {},
   "outputs": [
    {
     "data": {
      "text/html": [
       "<table class=\"dataframe\">\n",
       "<caption>A data.table: 2 × 7</caption>\n",
       "<thead>\n",
       "\t<tr><th scope=col>gene</th><th scope=col>model</th><th scope=col>model_name</th><th scope=col>log.tpm</th><th scope=col>z</th><th scope=col>fold</th><th scope=col>tumor_type</th></tr>\n",
       "\t<tr><th scope=col>&lt;chr&gt;</th><th scope=col>&lt;chr&gt;</th><th scope=col>&lt;chr&gt;</th><th scope=col>&lt;dbl&gt;</th><th scope=col>&lt;dbl&gt;</th><th scope=col>&lt;dbl&gt;</th><th scope=col>&lt;chr&gt;</th></tr>\n",
       "</thead>\n",
       "<tbody>\n",
       "\t<tr><td>ACSM3</td><td>CTG-3501</td><td>CTG-3501</td><td>2.741149</td><td>-0.1693172</td><td>0.8765697</td><td>Breast  </td></tr>\n",
       "\t<tr><td>ACSM3</td><td>CTG-0718</td><td>CTG-0718</td><td>3.214430</td><td> 0.1442849</td><td>1.1051820</td><td>Melanoma</td></tr>\n",
       "</tbody>\n",
       "</table>\n"
      ],
      "text/latex": [
       "A data.table: 2 × 7\n",
       "\\begin{tabular}{lllllll}\n",
       " gene & model & model\\_name & log.tpm & z & fold & tumor\\_type\\\\\n",
       " <chr> & <chr> & <chr> & <dbl> & <dbl> & <dbl> & <chr>\\\\\n",
       "\\hline\n",
       "\t ACSM3 & CTG-3501 & CTG-3501 & 2.741149 & -0.1693172 & 0.8765697 & Breast  \\\\\n",
       "\t ACSM3 & CTG-0718 & CTG-0718 & 3.214430 &  0.1442849 & 1.1051820 & Melanoma\\\\\n",
       "\\end{tabular}\n"
      ],
      "text/markdown": [
       "\n",
       "A data.table: 2 × 7\n",
       "\n",
       "| gene &lt;chr&gt; | model &lt;chr&gt; | model_name &lt;chr&gt; | log.tpm &lt;dbl&gt; | z &lt;dbl&gt; | fold &lt;dbl&gt; | tumor_type &lt;chr&gt; |\n",
       "|---|---|---|---|---|---|---|\n",
       "| ACSM3 | CTG-3501 | CTG-3501 | 2.741149 | -0.1693172 | 0.8765697 | Breast   |\n",
       "| ACSM3 | CTG-0718 | CTG-0718 | 3.214430 |  0.1442849 | 1.1051820 | Melanoma |\n",
       "\n"
      ],
      "text/plain": [
       "  gene  model    model_name log.tpm  z          fold      tumor_type\n",
       "1 ACSM3 CTG-3501 CTG-3501   2.741149 -0.1693172 0.8765697 Breast    \n",
       "2 ACSM3 CTG-0718 CTG-0718   3.214430  0.1442849 1.1051820 Melanoma  "
      ]
     },
     "metadata": {},
     "output_type": "display_data"
    }
   ],
   "source": [
    "# Define a gene of interest\n",
    "# Make sure the gene you select exist in the above df table\n",
    "gene_choice <- 'ACSM3' # put your gene of interest here\n",
    "df_gene  <- df %>% \n",
    "    na.omit()  %>% \n",
    "    filter(gene==gene_choice)  \n",
    "head(df_gene, 2)"
   ]
  },
  {
   "cell_type": "markdown",
   "id": "12b56a74",
   "metadata": {},
   "source": [
    "### 5. Visualization"
   ]
  },
  {
   "cell_type": "code",
   "execution_count": 23,
   "id": "41251621",
   "metadata": {
    "scrolled": false
   },
   "outputs": [
    {
     "data": {
      "image/png": "[encoded data removed]",
      "text/plain": [
       "plot without title"
      ]
     },
     "metadata": {
      "image/png": {
       "height": 720,
       "width": 720
      }
     },
     "output_type": "display_data"
    }
   ],
   "source": [
    "# Visualize the expression levels by cancer type\n",
    "options(repr.plot.width=8, repr.plot.height=8, repr.plot.res=180) # set figure size and resolution\n",
    "ggplot(df_gene, aes(x=tumor_type, y=z, fill=tumor_type, color=tumor_type)) +\n",
    "    geom_boxplot(alpha=0.6) +\n",
    "    theme(axis.text.x = element_text(angle = 45, hjust = 1),\n",
    "          legend.position = \"none\", \n",
    "          plot.margin = unit(c(0,0,0,1)+0.1, \"cm\")) +\n",
    "    labs(x=\"\", y=\"Z Score\", \n",
    "         title=paste0(gene_choice, \" RNA expression by cancer type\")) +\n",
    "    scale_fill_brewer(palette=\"BrBG\")"
   ]
  }
 ],
 "metadata": {
  "kernelspec": {
   "display_name": "R",
   "language": "R",
   "name": "ir"
  },
  "language_info": {
   "codemirror_mode": "r",
   "file_extension": ".r",
   "mimetype": "text/x-r-source",
   "name": "R",
   "pygments_lexer": "r",
   "version": "4.1.2"
  }
 },
 "nbformat": 4,
 "nbformat_minor": 5
}
