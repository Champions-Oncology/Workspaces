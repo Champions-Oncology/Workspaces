{
 "cells": [
  {
   "cell_type": "markdown",
   "id": "1720c511",
   "metadata": {},
   "source": [
    "# WGCNA\n",
    "\n",
    "+ Author: Margaret Paiva\n",
    "+ Date: 2021-12-11\n",
    "+ Output: R notebook\n",
    "\n",
    "WGCNA defines co-expression networks as undirected, weighted gene networks. The nodes of such a network correspond to gene expression profiles, and edges between genes are determined by the pairwise correlations between gene expression. It alleviates the multiple testing problem and focuses on the relationship between a few modules and the sample trait. Toward this end, it calculates the eigengene significance (correlation between sample trait and eigengene) and the corresponding p-value for each module. The module definition does not make use of a priori defined gene sets. Instead, modules are constructed from the expression data by using hierarchical clustering."
   ]
  },
  {
   "cell_type": "markdown",
   "id": "5f9a94d5",
   "metadata": {},
   "source": [
    "## 1. Dependencies"
   ]
  },
  {
   "cell_type": "code",
   "execution_count": 1,
   "id": "77265758",
   "metadata": {},
   "outputs": [],
   "source": [
    "# cran packages\n",
    "x <- c('dplyr',\n",
    "       'data.table',\n",
    "       'tidyr',   \n",
    "       'tidyverse', \n",
    "       'tibble',\n",
    "       'ggplot2', \n",
    "       'cluster', \n",
    "       'WGCNA')\n",
    "# bioconductor packages\n",
    "y <- c('GO.db')"
   ]
  },
  {
   "cell_type": "code",
   "execution_count": 2,
   "id": "8312bae4",
   "metadata": {},
   "outputs": [],
   "source": [
    "# install cran packages\n",
    "for (pkg in x) {\n",
    "    if (!pkg %in% rownames(installed.packages())) {install.packages(pkg)}\n",
    "}"
   ]
  },
  {
   "cell_type": "code",
   "execution_count": 8,
   "id": "6e0f4fd0",
   "metadata": {},
   "outputs": [],
   "source": [
    "# install bioconductor packages\n",
    "if (!requireNamespace(\"BiocManager\", quietly=TRUE))\n",
    "    install.packages(\"BiocManager\")\n",
    "for (pkg in y) {\n",
    "    if (!requireNamespace(pkg, quietly=TRUE)) {\n",
    "        BiocManager::install(pkg)\n",
    "    }\n",
    "}"
   ]
  },
  {
   "cell_type": "code",
   "execution_count": 4,
   "id": "9d72c08b",
   "metadata": {},
   "outputs": [],
   "source": [
    "# load packages\n",
    "load_lib <- function(x) {\n",
    "    suppressPackageStartupMessages(library(x, character.only = TRUE))\n",
    "}\n",
    "invisible(lapply(c(x, y), load_lib))"
   ]
  },
  {
   "cell_type": "code",
   "execution_count": 5,
   "id": "74fe60ad",
   "metadata": {},
   "outputs": [
    {
     "name": "stdout",
     "output_type": "stream",
     "text": [
      "Allowing multi-threading with up to 8 threads.\n"
     ]
    }
   ],
   "source": [
    "allowWGCNAThreads()   \n",
    "options(stringsAsFactors = FALSE)"
   ]
  },
  {
   "cell_type": "markdown",
   "id": "5bba148e",
   "metadata": {},
   "source": [
    "### 2. Request data from API\n",
    "Request data from API using the files at https://github.com/Champions-Oncology/Workspaces/tree/main/1starter_data_request.\n",
    "\n",
    "This notebook used the following options to request data:\n",
    "\n",
    "(This notebook used [this example list of genes](https://github.com/Champions-Oncology/Workspaces/blob/main/gene_list.csv). You may define your genes of interest in a .csv file and use it in the data requesting file.)\n",
    "\n",
    "- table=\"expression\",\n",
    "- cancer_type=[\"Renal cell carcinoma\", \"Prostate\", \"Adenoid cystic carcinoma\", \"Breast\", \"Thyroid\", \"Testicular\", \"Hepatocellular carcinoma\", \"Melanoma\"],\n",
    "- genes=list(genes_df['gene']),\n",
    "- source = \"PDX\"\n",
    "(For example, if you use the data_request.ipynb in Python, these are the options in the df, location = request_data() function.)"
   ]
  },
  {
   "cell_type": "markdown",
   "id": "b10c1353",
   "metadata": {},
   "source": [
    "## 3. Read data"
   ]
  },
  {
   "cell_type": "code",
   "execution_count": 6,
   "id": "a933a0b0",
   "metadata": {},
   "outputs": [
    {
     "data": {
      "text/html": [
       "<table class=\"dataframe\">\n",
       "<caption>A data.frame: 2 × 7</caption>\n",
       "<thead>\n",
       "\t<tr><th></th><th scope=col>gene</th><th scope=col>model</th><th scope=col>model_name</th><th scope=col>log.tpm</th><th scope=col>z</th><th scope=col>fold</th><th scope=col>tumor_type</th></tr>\n",
       "\t<tr><th></th><th scope=col>&lt;chr&gt;</th><th scope=col>&lt;chr&gt;</th><th scope=col>&lt;chr&gt;</th><th scope=col>&lt;dbl&gt;</th><th scope=col>&lt;dbl&gt;</th><th scope=col>&lt;dbl&gt;</th><th scope=col>&lt;chr&gt;</th></tr>\n",
       "</thead>\n",
       "<tbody>\n",
       "\t<tr><th scope=row>1</th><td>ACSM3</td><td>CTG-3501</td><td>CTG-3501</td><td>2.7411490</td><td>-0.1693172</td><td>0.8765697</td><td>Breast</td></tr>\n",
       "\t<tr><th scope=row>2</th><td>COPZ2</td><td>CTG-3501</td><td>CTG-3501</td><td>0.7995996</td><td>-0.9946150</td><td>0.1851744</td><td>Breast</td></tr>\n",
       "</tbody>\n",
       "</table>\n"
      ],
      "text/latex": [
       "A data.frame: 2 × 7\n",
       "\\begin{tabular}{r|lllllll}\n",
       "  & gene & model & model\\_name & log.tpm & z & fold & tumor\\_type\\\\\n",
       "  & <chr> & <chr> & <chr> & <dbl> & <dbl> & <dbl> & <chr>\\\\\n",
       "\\hline\n",
       "\t1 & ACSM3 & CTG-3501 & CTG-3501 & 2.7411490 & -0.1693172 & 0.8765697 & Breast\\\\\n",
       "\t2 & COPZ2 & CTG-3501 & CTG-3501 & 0.7995996 & -0.9946150 & 0.1851744 & Breast\\\\\n",
       "\\end{tabular}\n"
      ],
      "text/markdown": [
       "\n",
       "A data.frame: 2 × 7\n",
       "\n",
       "| <!--/--> | gene &lt;chr&gt; | model &lt;chr&gt; | model_name &lt;chr&gt; | log.tpm &lt;dbl&gt; | z &lt;dbl&gt; | fold &lt;dbl&gt; | tumor_type &lt;chr&gt; |\n",
       "|---|---|---|---|---|---|---|---|\n",
       "| 1 | ACSM3 | CTG-3501 | CTG-3501 | 2.7411490 | -0.1693172 | 0.8765697 | Breast |\n",
       "| 2 | COPZ2 | CTG-3501 | CTG-3501 | 0.7995996 | -0.9946150 | 0.1851744 | Breast |\n",
       "\n"
      ],
      "text/plain": [
       "  gene  model    model_name log.tpm   z          fold      tumor_type\n",
       "1 ACSM3 CTG-3501 CTG-3501   2.7411490 -0.1693172 0.8765697 Breast    \n",
       "2 COPZ2 CTG-3501 CTG-3501   0.7995996 -0.9946150 0.1851744 Breast    "
      ]
     },
     "metadata": {},
     "output_type": "display_data"
    },
    {
     "name": "stdout",
     "output_type": "stream",
     "text": [
      "[1] 82800     7\n"
     ]
    }
   ],
   "source": [
    "# change to where you saved your .csv file and file name\n",
    "df  <- fread(\"../data/pdx_expression_gene_list_multi_cancer.csv\")\n",
    "df  <- as.data.frame(df)\n",
    "df$gene  <- as.character(df$gene)  # each column is a list - specify data type\n",
    "df$model  <- as.character(df$model)\n",
    "df$tumor_type  <- as.character(df$tumor_type)\n",
    "df$log.tpm  <- as.numeric(df$log.tpm)\n",
    "head(df, 2)\n",
    "print(dim(df))"
   ]
  },
  {
   "cell_type": "code",
   "execution_count": 7,
   "id": "b17f36ec",
   "metadata": {},
   "outputs": [
    {
     "ename": "ERROR",
     "evalue": "Error in (function (classes, fdef, mtable) : unable to find an inherited method for function 'select' for signature '\"data.frame\"'\n",
     "output_type": "error",
     "traceback": [
      "Error in (function (classes, fdef, mtable) : unable to find an inherited method for function 'select' for signature '\"data.frame\"'\nTraceback:\n",
      "1. df %>% select(c(\"gene\", \"model\", \"log.tpm\")) %>% pivot_wider(names_from = gene, \n .     values_from = log.tpm) %>% column_to_rownames(\"model\")",
      "2. column_to_rownames(., \"model\")",
      "3. stopifnot(is.data.frame(.data))",
      "4. is.data.frame(.data)",
      "5. pivot_wider(., names_from = gene, values_from = log.tpm)",
      "6. select(., c(\"gene\", \"model\", \"log.tpm\"))",
      "7. (function (classes, fdef, mtable) \n . {\n .     methods <- .findInheritedMethods(classes, fdef, mtable)\n .     if (length(methods) == 1L) \n .         return(methods[[1L]])\n .     else if (length(methods) == 0L) {\n .         cnames <- paste0(\"\\\"\", vapply(classes, as.character, \n .             \"\"), \"\\\"\", collapse = \", \")\n .         stop(gettextf(\"unable to find an inherited method for function %s for signature %s\", \n .             sQuote(fdef@generic), sQuote(cnames)), domain = NA)\n .     }\n .     else stop(\"Internal error in finding inherited methods; didn't return a unique method\", \n .         domain = NA)\n . })(list(\"data.frame\"), new(\"standardGeneric\", .Data = function (x, \n .     keys, columns, keytype, ...) \n . standardGeneric(\"select\"), generic = structure(\"select\", package = \"AnnotationDbi\"), \n .     package = \"AnnotationDbi\", group = list(), valueClass = character(0), \n .     signature = \"x\", default = NULL, skeleton = (function (x, \n .         keys, columns, keytype, ...) \n .     stop(\"invalid call in method dispatch to 'select' (no default method)\", \n .         domain = NA))(x, keys, columns, keytype, ...)), <environment>)",
      "8. stop(gettextf(\"unable to find an inherited method for function %s for signature %s\", \n .     sQuote(fdef@generic), sQuote(cnames)), domain = NA)"
     ]
    }
   ],
   "source": [
    "# Pivot the table\n",
    "log_tpm <- df %>% \n",
    "    select(c('gene', 'model', 'log.tpm'))  %>% \n",
    "    pivot_wider(names_from = gene, values_from = log.tpm)  %>% \n",
    "    column_to_rownames('model')\n",
    "log_tpm  <- log_tpm[complete.cases(log_tpm),]  # remove rows with missing values\n",
    "log_tpm[1:2, 1:10]\n",
    "print(dim(log_tpm))"
   ]
  },
  {
   "cell_type": "markdown",
   "id": "f64ed49f",
   "metadata": {},
   "source": [
    "## 4. Select the power"
   ]
  },
  {
   "cell_type": "code",
   "execution_count": null,
   "id": "6ef37ade",
   "metadata": {},
   "outputs": [],
   "source": [
    "# Choose a set of soft-thresholding powers\n",
    "powers = c(c(1:10), seq(from = 12, to = 20, by = 2))\n",
    "\n",
    "# Call the network topology analysis function\n",
    "sft = pickSoftThreshold(\n",
    "  log_tpm,             # <= Input data\n",
    "  powerVector = powers,\n",
    "  verbose = 5\n",
    "  )"
   ]
  },
  {
   "cell_type": "code",
   "execution_count": null,
   "id": "82ac6b63",
   "metadata": {},
   "outputs": [],
   "source": [
    "par(mfrow = c(1,2));\n",
    "cex1 = 0.9;\n",
    "\n",
    "plot(sft$fitIndices[, 1],\n",
    "     -sign(sft$fitIndices[, 3]) * sft$fitIndices[, 2],\n",
    "     xlab = \"Threshold\",\n",
    "     ylab = \"R2\",\n",
    "     main = paste(\"Scale independence\")\n",
    ")\n",
    "text(sft$fitIndices[, 1],\n",
    "     -sign(sft$fitIndices[, 3]) * sft$fitIndices[, 2],\n",
    "     labels = powers, cex = cex1, col = \"red\"\n",
    ")\n",
    "abline(h = 0.90, col = \"red\")\n",
    "plot(sft$fitIndices[, 1],\n",
    "     sft$fitIndices[, 5],\n",
    "     xlab = \"Threshold\",\n",
    "     ylab = \"Mean Connectivity\",\n",
    "     type = \"n\",\n",
    "     main = paste(\"Mean connectivity\")\n",
    ")\n",
    "text(sft$fitIndices[, 1],\n",
    "     sft$fitIndices[, 5],\n",
    "     labels = powers,\n",
    "     cex = cex1, col = \"red\")"
   ]
  },
  {
   "cell_type": "markdown",
   "id": "0e6f9850",
   "metadata": {},
   "source": [
    "According to the above two plots, we should pick power=14."
   ]
  },
  {
   "cell_type": "markdown",
   "id": "e80ef024",
   "metadata": {},
   "source": [
    "## 5. Create the network"
   ]
  },
  {
   "cell_type": "code",
   "execution_count": null,
   "id": "541d3c0a",
   "metadata": {},
   "outputs": [],
   "source": [
    "picked_power = 9\n",
    "temp_cor <- cor       \n",
    "cor <- WGCNA::cor         # Force it to use WGCNA cor function (fix a namespace conflict issue)\n",
    "netwk <- blockwiseModules(log_tpm,                # <= input here\n",
    "\n",
    "                          # == Adjacency Function ==\n",
    "                          power = picked_power,                # <= power here\n",
    "                          networkType = \"signed\",\n",
    "\n",
    "                          # == Tree and Block Options ==\n",
    "                          deepSplit = 2,\n",
    "                          pamRespectsDendro = F,\n",
    "                          minModuleSize = 30,\n",
    "                          maxBlockSize = 4000,\n",
    "\n",
    "                          # == Module Adjustments ==\n",
    "                          reassignThreshold = 0,\n",
    "                          mergeCutHeight = 0.25,\n",
    "\n",
    "                          # == Archive the run results in TOM file (saves time) == \n",
    "                          saveTOMs = T,\n",
    "                          saveTOMFileBase = \"ER\",\n",
    "\n",
    "                          # == Output Options\n",
    "                          numericLabels = T,\n",
    "                          verbose = 3)\n",
    "cor <- temp_cor     # Return cor function to original namespace"
   ]
  },
  {
   "cell_type": "code",
   "execution_count": null,
   "id": "edbd3642",
   "metadata": {},
   "outputs": [],
   "source": [
    "# Convert labels to colors for plotting\n",
    "mergedColors = labels2colors(netwk$colors)\n",
    "# Plot the dendrogram and the module colors underneath\n",
    "options(repr.plot.width=10, repr.plot.height=4, repr.plot.res=300)\n",
    "plotDendroAndColors(\n",
    "  netwk$dendrograms[[1]],\n",
    "  mergedColors[netwk$blockGenes[[1]]],\n",
    "  \"Module colors\",\n",
    "  dendroLabels = FALSE,\n",
    "  hang = 0.03,\n",
    "  addGuide = TRUE,\n",
    "  guideHang = 0.05 )"
   ]
  },
  {
   "cell_type": "markdown",
   "id": "1cdf22e3",
   "metadata": {},
   "source": [
    "## 6. Relate the modules"
   ]
  },
  {
   "cell_type": "code",
   "execution_count": null,
   "id": "fd598ccb",
   "metadata": {},
   "outputs": [],
   "source": [
    "module_df <- data.frame(\n",
    "  gene_id = names(netwk$colors),\n",
    "  colors = labels2colors(netwk$colors)\n",
    ")"
   ]
  },
  {
   "cell_type": "code",
   "execution_count": null,
   "id": "a73b4a51",
   "metadata": {},
   "outputs": [],
   "source": [
    "head(module_df)"
   ]
  },
  {
   "cell_type": "code",
   "execution_count": null,
   "id": "04dc9688",
   "metadata": {},
   "outputs": [],
   "source": [
    "# Get Module Eigengenes per cluster\n",
    "MEs0 <- moduleEigengenes(log_tpm, mergedColors)$eigengenes\n",
    "\n",
    "# Reorder modules so similar modules are next to each other\n",
    "MEs0 <- orderMEs(MEs0)\n",
    "module_order <- names(MEs0) %>% gsub(\"ME\",\"\", .)\n",
    "\n",
    "# Add model names\n",
    "MEs0$model = row.names(MEs0)\n",
    "\n",
    "head(MEs0, 2)"
   ]
  },
  {
   "cell_type": "code",
   "execution_count": null,
   "id": "35b17fec",
   "metadata": {
    "scrolled": false
   },
   "outputs": [],
   "source": [
    "# tidy & plot data\n",
    "mME = MEs0[1: 30,] %>%  # choose the first numbers of models here - you may select models of interest\n",
    "  pivot_longer(-model) %>%\n",
    "  mutate(\n",
    "    name = gsub(\"ME\", \"\", name),\n",
    "    name = factor(name, levels = module_order)\n",
    "  )\n",
    "\n",
    "mME %>% ggplot(., aes(x=model, y=name, fill=value)) +\n",
    "  geom_tile() +\n",
    "  theme_bw() +\n",
    "  scale_fill_gradient2(\n",
    "    low = \"blue\",\n",
    "    high = \"red\",\n",
    "    mid = \"white\",\n",
    "    midpoint = 0,\n",
    "    limit = c(-1,1)) +\n",
    "  theme(axis.text.x = element_text(angle=90)) +\n",
    "  labs(title = \"Module-model Relationships\", y = \"Modules\", fill=\"corr\")"
   ]
  }
 ],
 "metadata": {
  "kernelspec": {
   "display_name": "R",
   "language": "R",
   "name": "ir"
  },
  "language_info": {
   "codemirror_mode": "r",
   "file_extension": ".r",
   "mimetype": "text/x-r-source",
   "name": "R",
   "pygments_lexer": "r",
   "version": "4.1.2"
  }
 },
 "nbformat": 4,
 "nbformat_minor": 5
}
