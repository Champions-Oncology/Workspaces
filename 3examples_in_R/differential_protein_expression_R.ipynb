{
 "cells": [
  {
   "cell_type": "markdown",
   "id": "118c0412",
   "metadata": {},
   "source": [
    "- title: \"Differential Protein Expression\"\n",
    "- author: \"Margaret Paiva\"\n",
    "- author: \"Gilad Silberberg\"\n",
    "- date: \"2021/12/21\"\n",
    "- output: R notebook"
   ]
  },
  {
   "cell_type": "code",
   "execution_count": 1,
   "id": "4213d51f",
   "metadata": {},
   "outputs": [],
   "source": [
    "# cran packages\n",
    "x <- c('dplyr',\n",
    "       'data.table',\n",
    "       'tidyr',   \n",
    "       'tidyverse', \n",
    "       'ggplot2', \n",
    "       'viridis')\n",
    "# bioconductor packages\n",
    "y <- c('DEP', \n",
    "       'SummarizedExperiment')"
   ]
  },
  {
   "cell_type": "code",
   "execution_count": 2,
   "id": "0aa4af72",
   "metadata": {},
   "outputs": [],
   "source": [
    "# install cran packages\n",
    "for (pkg in x) {\n",
    "    if (!pkg %in% rownames(installed.packages())) {install.packages(pkg)}\n",
    "}"
   ]
  },
  {
   "cell_type": "code",
   "execution_count": 3,
   "id": "21b58119",
   "metadata": {},
   "outputs": [],
   "source": [
    "# install bioconductor packages\n",
    "if (!requireNamespace(\"BiocManager\", quietly=TRUE))\n",
    "    install.packages(\"BiocManager\")\n",
    "for (pkg in y) {\n",
    "    if (!requireNamespace(pkg, quietly=TRUE)) {\n",
    "        BiocManager::install(pkg)\n",
    "    }\n",
    "}"
   ]
  },
  {
   "cell_type": "code",
   "execution_count": 4,
   "id": "3f8faeef",
   "metadata": {},
   "outputs": [],
   "source": [
    "# load packages\n",
    "load_lib <- function(x) {\n",
    "    suppressPackageStartupMessages(library(x, character.only = TRUE))\n",
    "}\n",
    "invisible(lapply(c(x, y), load_lib))"
   ]
  },
  {
   "cell_type": "markdown",
   "id": "63292a23",
   "metadata": {},
   "source": [
    "## Data\n",
    "\n",
    "The SummarizedExperiment object has a couple of specifications. The log2-transformed assay data and the specified rowData and colData columns are prerequisites for the subsequent analysis steps.\n",
    "- The assay data is log2-transformed. \n",
    "- Its rownames depict the protein/gene names. The rowData contains, amongst others, the ‘name’ and ‘ID’ columns.\n",
    "- The colData contains the experimental design and thereby the sample annotation. Thereby the colData includes the ‘label’, ‘condition’ and ‘replicate’ columns as well as a newly generated ‘ID’ column.  "
   ]
  },
  {
   "cell_type": "code",
   "execution_count": 5,
   "id": "dc72f4b0",
   "metadata": {},
   "outputs": [],
   "source": [
    "# External users use API to query data\n",
    "# Internal users can access the data at\n",
    "# s3://championsoncology.bioinformatics/Repos/general_analysis/AMLproteomics/general_preproc_QC/\n",
    "data <- readRDS('./data/AMLproteomics_imp_norm_se_list2021-04-06.rds')\n",
    "data <- data$lenient  # choose conservative or lenient\n",
    "# The following is to format the data to match the function requirement \n",
    "colData(data) <- subset(colData(data), select = -c(condition, replicate)) \n",
    "names(colData(data))[names(colData(data)) == 'Treatment.history'] <- 'condition'\n",
    "colData(data)$replicate <- colData(data)$ID \n",
    "colData(data) <- subset(colData(data), select = c(ID, label, condition, replicate))\n",
    "data <- data[, !is.na(colData(data)$condition)] # remove samples with NA condition"
   ]
  },
  {
   "cell_type": "code",
   "execution_count": 6,
   "id": "44c42ea5",
   "metadata": {},
   "outputs": [
    {
     "data": {
      "text/plain": [
       "class: SummarizedExperiment \n",
       "dim: 4688 44 \n",
       "metadata(0):\n",
       "assays(1): ''\n",
       "rownames(4688): A2M A8MWD9 ... ZYX ZZEF1\n",
       "rowData names(6): hgnc_symbol ProteinGroupId ... imputed num_NAs\n",
       "colnames(44): CTG_2226 CTG_2227 ... CTG_3679 CTG_3680\n",
       "colData names(4): ID label condition replicate"
      ]
     },
     "metadata": {},
     "output_type": "display_data"
    }
   ],
   "source": [
    "# This is the annotated data format (SummarizedExperiment object) in R\n",
    "# equivalent to AnnData in Python\n",
    "data"
   ]
  },
  {
   "cell_type": "code",
   "execution_count": 7,
   "id": "ac980f7a",
   "metadata": {},
   "outputs": [
    {
     "data": {
      "text/html": [
       "<style>\n",
       ".list-inline {list-style: none; margin:0; padding: 0}\n",
       ".list-inline>li {display: inline-block}\n",
       ".list-inline>li:not(:last-child)::after {content: \"\\00b7\"; padding: 0 .5ex}\n",
       "</style>\n",
       "<ol class=list-inline><li>4688</li><li>44</li></ol>\n"
      ],
      "text/latex": [
       "\\begin{enumerate*}\n",
       "\\item 4688\n",
       "\\item 44\n",
       "\\end{enumerate*}\n"
      ],
      "text/markdown": [
       "1. 4688\n",
       "2. 44\n",
       "\n",
       "\n"
      ],
      "text/plain": [
       "[1] 4688   44"
      ]
     },
     "metadata": {},
     "output_type": "display_data"
    },
    {
     "data": {
      "text/html": [
       "<table class=\"dataframe\">\n",
       "<caption>A matrix: 2 × 44 of type dbl</caption>\n",
       "<thead>\n",
       "\t<tr><th></th><th scope=col>CTG_2226</th><th scope=col>CTG_2227</th><th scope=col>CTG_2228</th><th scope=col>CTG_2229</th><th scope=col>CTG_2232</th><th scope=col>CTG_2233</th><th scope=col>CTG_2234</th><th scope=col>CTG_2235</th><th scope=col>CTG_2236</th><th scope=col>CTG_2238</th><th scope=col>...</th><th scope=col>CTG_3441</th><th scope=col>CTG_3659</th><th scope=col>CTG_3660</th><th scope=col>CTG_3661</th><th scope=col>CTG_3663</th><th scope=col>CTG_3670</th><th scope=col>CTG_3673</th><th scope=col>CTG_3674</th><th scope=col>CTG_3679</th><th scope=col>CTG_3680</th></tr>\n",
       "</thead>\n",
       "<tbody>\n",
       "\t<tr><th scope=row>A2M</th><td>15.386</td><td>15.65601</td><td>16.38401</td><td>14.84999</td><td>15.84399</td><td>13.96596</td><td>13.74704</td><td>12.77808</td><td>14.961</td><td>16.10501</td><td>...</td><td>14.04397</td><td>14.16703</td><td>14.633</td><td>14.19599</td><td>14.85599</td><td>16.511</td><td>16.103</td><td>13.30307</td><td>16.764</td><td>14.975</td></tr>\n",
       "\t<tr><th scope=row>A8MWD9</th><td>18.122</td><td>18.84500</td><td>18.90100</td><td>19.04300</td><td>18.11900</td><td>18.30000</td><td>18.77900</td><td>18.71000</td><td>19.251</td><td>18.82300</td><td>...</td><td>19.03400</td><td>18.22900</td><td>18.100</td><td>18.99500</td><td>18.63300</td><td>18.798</td><td>18.729</td><td>18.82300</td><td>18.432</td><td>18.730</td></tr>\n",
       "</tbody>\n",
       "</table>\n"
      ],
      "text/latex": [
       "A matrix: 2 × 44 of type dbl\n",
       "\\begin{tabular}{r|lllllllllllllllllllll}\n",
       "  & CTG\\_2226 & CTG\\_2227 & CTG\\_2228 & CTG\\_2229 & CTG\\_2232 & CTG\\_2233 & CTG\\_2234 & CTG\\_2235 & CTG\\_2236 & CTG\\_2238 & ... & CTG\\_3441 & CTG\\_3659 & CTG\\_3660 & CTG\\_3661 & CTG\\_3663 & CTG\\_3670 & CTG\\_3673 & CTG\\_3674 & CTG\\_3679 & CTG\\_3680\\\\\n",
       "\\hline\n",
       "\tA2M & 15.386 & 15.65601 & 16.38401 & 14.84999 & 15.84399 & 13.96596 & 13.74704 & 12.77808 & 14.961 & 16.10501 & ... & 14.04397 & 14.16703 & 14.633 & 14.19599 & 14.85599 & 16.511 & 16.103 & 13.30307 & 16.764 & 14.975\\\\\n",
       "\tA8MWD9 & 18.122 & 18.84500 & 18.90100 & 19.04300 & 18.11900 & 18.30000 & 18.77900 & 18.71000 & 19.251 & 18.82300 & ... & 19.03400 & 18.22900 & 18.100 & 18.99500 & 18.63300 & 18.798 & 18.729 & 18.82300 & 18.432 & 18.730\\\\\n",
       "\\end{tabular}\n"
      ],
      "text/markdown": [
       "\n",
       "A matrix: 2 × 44 of type dbl\n",
       "\n",
       "| <!--/--> | CTG_2226 | CTG_2227 | CTG_2228 | CTG_2229 | CTG_2232 | CTG_2233 | CTG_2234 | CTG_2235 | CTG_2236 | CTG_2238 | ... | CTG_3441 | CTG_3659 | CTG_3660 | CTG_3661 | CTG_3663 | CTG_3670 | CTG_3673 | CTG_3674 | CTG_3679 | CTG_3680 |\n",
       "|---|---|---|---|---|---|---|---|---|---|---|---|---|---|---|---|---|---|---|---|---|---|\n",
       "| A2M | 15.386 | 15.65601 | 16.38401 | 14.84999 | 15.84399 | 13.96596 | 13.74704 | 12.77808 | 14.961 | 16.10501 | ... | 14.04397 | 14.16703 | 14.633 | 14.19599 | 14.85599 | 16.511 | 16.103 | 13.30307 | 16.764 | 14.975 |\n",
       "| A8MWD9 | 18.122 | 18.84500 | 18.90100 | 19.04300 | 18.11900 | 18.30000 | 18.77900 | 18.71000 | 19.251 | 18.82300 | ... | 19.03400 | 18.22900 | 18.100 | 18.99500 | 18.63300 | 18.798 | 18.729 | 18.82300 | 18.432 | 18.730 |\n",
       "\n"
      ],
      "text/plain": [
       "       CTG_2226 CTG_2227 CTG_2228 CTG_2229 CTG_2232 CTG_2233 CTG_2234 CTG_2235\n",
       "A2M    15.386   15.65601 16.38401 14.84999 15.84399 13.96596 13.74704 12.77808\n",
       "A8MWD9 18.122   18.84500 18.90100 19.04300 18.11900 18.30000 18.77900 18.71000\n",
       "       CTG_2236 CTG_2238 ... CTG_3441 CTG_3659 CTG_3660 CTG_3661 CTG_3663\n",
       "A2M    14.961   16.10501 ... 14.04397 14.16703 14.633   14.19599 14.85599\n",
       "A8MWD9 19.251   18.82300 ... 19.03400 18.22900 18.100   18.99500 18.63300\n",
       "       CTG_3670 CTG_3673 CTG_3674 CTG_3679 CTG_3680\n",
       "A2M    16.511   16.103   13.30307 16.764   14.975  \n",
       "A8MWD9 18.798   18.729   18.82300 18.432   18.730  "
      ]
     },
     "metadata": {},
     "output_type": "display_data"
    }
   ],
   "source": [
    "# assay data\n",
    "dim(assay(data))\n",
    "head(assay(data), 2)"
   ]
  },
  {
   "cell_type": "code",
   "execution_count": 8,
   "id": "3dc42b8d",
   "metadata": {},
   "outputs": [
    {
     "data": {
      "text/html": [
       "<style>\n",
       ".list-inline {list-style: none; margin:0; padding: 0}\n",
       ".list-inline>li {display: inline-block}\n",
       ".list-inline>li:not(:last-child)::after {content: \"\\00b7\"; padding: 0 .5ex}\n",
       "</style>\n",
       "<ol class=list-inline><li>4688</li><li>6</li></ol>\n"
      ],
      "text/latex": [
       "\\begin{enumerate*}\n",
       "\\item 4688\n",
       "\\item 6\n",
       "\\end{enumerate*}\n"
      ],
      "text/markdown": [
       "1. 4688\n",
       "2. 6\n",
       "\n",
       "\n"
      ],
      "text/plain": [
       "[1] 4688    6"
      ]
     },
     "metadata": {},
     "output_type": "display_data"
    },
    {
     "data": {
      "text/html": [
       "<table class=\"dataframe\">\n",
       "<caption>A data.frame: 2 × 6</caption>\n",
       "<thead>\n",
       "\t<tr><th></th><th scope=col>hgnc_symbol</th><th scope=col>ProteinGroupId</th><th scope=col>ID</th><th scope=col>name</th><th scope=col>imputed</th><th scope=col>num_NAs</th></tr>\n",
       "\t<tr><th></th><th scope=col>&lt;chr&gt;</th><th scope=col>&lt;chr&gt;</th><th scope=col>&lt;chr&gt;</th><th scope=col>&lt;chr&gt;</th><th scope=col>&lt;lgl&gt;</th><th scope=col>&lt;dbl&gt;</th></tr>\n",
       "</thead>\n",
       "<tbody>\n",
       "\t<tr><th scope=row>A2M</th><td>A2M</td><td>P01023</td><td>P01023</td><td>A2M   </td><td>FALSE</td><td>0</td></tr>\n",
       "\t<tr><th scope=row>A8MWD9</th><td>NA </td><td>A8MWD9</td><td>A8MWD9</td><td>A8MWD9</td><td>FALSE</td><td>0</td></tr>\n",
       "</tbody>\n",
       "</table>\n"
      ],
      "text/latex": [
       "A data.frame: 2 × 6\n",
       "\\begin{tabular}{r|llllll}\n",
       "  & hgnc\\_symbol & ProteinGroupId & ID & name & imputed & num\\_NAs\\\\\n",
       "  & <chr> & <chr> & <chr> & <chr> & <lgl> & <dbl>\\\\\n",
       "\\hline\n",
       "\tA2M & A2M & P01023 & P01023 & A2M    & FALSE & 0\\\\\n",
       "\tA8MWD9 & NA  & A8MWD9 & A8MWD9 & A8MWD9 & FALSE & 0\\\\\n",
       "\\end{tabular}\n"
      ],
      "text/markdown": [
       "\n",
       "A data.frame: 2 × 6\n",
       "\n",
       "| <!--/--> | hgnc_symbol &lt;chr&gt; | ProteinGroupId &lt;chr&gt; | ID &lt;chr&gt; | name &lt;chr&gt; | imputed &lt;lgl&gt; | num_NAs &lt;dbl&gt; |\n",
       "|---|---|---|---|---|---|---|\n",
       "| A2M | A2M | P01023 | P01023 | A2M    | FALSE | 0 |\n",
       "| A8MWD9 | NA  | A8MWD9 | A8MWD9 | A8MWD9 | FALSE | 0 |\n",
       "\n"
      ],
      "text/plain": [
       "       hgnc_symbol ProteinGroupId ID     name   imputed num_NAs\n",
       "A2M    A2M         P01023         P01023 A2M    FALSE   0      \n",
       "A8MWD9 NA          A8MWD9         A8MWD9 A8MWD9 FALSE   0      "
      ]
     },
     "metadata": {},
     "output_type": "display_data"
    }
   ],
   "source": [
    "# row info\n",
    "dim(rowData(data))\n",
    "head(as.data.frame(rowData(data)), 2)"
   ]
  },
  {
   "cell_type": "code",
   "execution_count": 9,
   "id": "2f67322e",
   "metadata": {
    "scrolled": false
   },
   "outputs": [
    {
     "data": {
      "text/html": [
       "<style>\n",
       ".list-inline {list-style: none; margin:0; padding: 0}\n",
       ".list-inline>li {display: inline-block}\n",
       ".list-inline>li:not(:last-child)::after {content: \"\\00b7\"; padding: 0 .5ex}\n",
       "</style>\n",
       "<ol class=list-inline><li>44</li><li>4</li></ol>\n"
      ],
      "text/latex": [
       "\\begin{enumerate*}\n",
       "\\item 44\n",
       "\\item 4\n",
       "\\end{enumerate*}\n"
      ],
      "text/markdown": [
       "1. 44\n",
       "2. 4\n",
       "\n",
       "\n"
      ],
      "text/plain": [
       "[1] 44  4"
      ]
     },
     "metadata": {},
     "output_type": "display_data"
    },
    {
     "data": {
      "text/html": [
       "<table class=\"dataframe\">\n",
       "<caption>A data.frame: 2 × 4</caption>\n",
       "<thead>\n",
       "\t<tr><th></th><th scope=col>ID</th><th scope=col>label</th><th scope=col>condition</th><th scope=col>replicate</th></tr>\n",
       "\t<tr><th></th><th scope=col>&lt;chr&gt;</th><th scope=col>&lt;chr&gt;</th><th scope=col>&lt;chr&gt;</th><th scope=col>&lt;chr&gt;</th></tr>\n",
       "</thead>\n",
       "<tbody>\n",
       "\t<tr><th scope=row>CTG_2226</th><td>CTG_2226</td><td>CTG_2226</td><td>PRETREATED</td><td>CTG_2226</td></tr>\n",
       "\t<tr><th scope=row>CTG_2227</th><td>CTG_2227</td><td>CTG_2227</td><td>PRETREATED</td><td>CTG_2227</td></tr>\n",
       "</tbody>\n",
       "</table>\n"
      ],
      "text/latex": [
       "A data.frame: 2 × 4\n",
       "\\begin{tabular}{r|llll}\n",
       "  & ID & label & condition & replicate\\\\\n",
       "  & <chr> & <chr> & <chr> & <chr>\\\\\n",
       "\\hline\n",
       "\tCTG\\_2226 & CTG\\_2226 & CTG\\_2226 & PRETREATED & CTG\\_2226\\\\\n",
       "\tCTG\\_2227 & CTG\\_2227 & CTG\\_2227 & PRETREATED & CTG\\_2227\\\\\n",
       "\\end{tabular}\n"
      ],
      "text/markdown": [
       "\n",
       "A data.frame: 2 × 4\n",
       "\n",
       "| <!--/--> | ID &lt;chr&gt; | label &lt;chr&gt; | condition &lt;chr&gt; | replicate &lt;chr&gt; |\n",
       "|---|---|---|---|---|\n",
       "| CTG_2226 | CTG_2226 | CTG_2226 | PRETREATED | CTG_2226 |\n",
       "| CTG_2227 | CTG_2227 | CTG_2227 | PRETREATED | CTG_2227 |\n",
       "\n"
      ],
      "text/plain": [
       "         ID       label    condition  replicate\n",
       "CTG_2226 CTG_2226 CTG_2226 PRETREATED CTG_2226 \n",
       "CTG_2227 CTG_2227 CTG_2227 PRETREATED CTG_2227 "
      ]
     },
     "metadata": {},
     "output_type": "display_data"
    }
   ],
   "source": [
    "# col info\n",
    "dim(colData(data))\n",
    "head(as.data.frame(colData(data)), 2)"
   ]
  },
  {
   "cell_type": "code",
   "execution_count": 10,
   "id": "b3056f4d",
   "metadata": {},
   "outputs": [
    {
     "data": {
      "text/plain": [
       "\n",
       "     NAIVE PRETREATED       <NA> \n",
       "        15         29          0 "
      ]
     },
     "metadata": {},
     "output_type": "display_data"
    }
   ],
   "source": [
    "# summary of pretreated vs. naive\n",
    "table(colData(data)$condition, useNA = \"always\")"
   ]
  },
  {
   "cell_type": "markdown",
   "id": "9e9f32be",
   "metadata": {},
   "source": [
    "## Processing"
   ]
  },
  {
   "cell_type": "code",
   "execution_count": 11,
   "id": "3c09595b",
   "metadata": {},
   "outputs": [
    {
     "data": {
      "image/png": "[encoded data removed]",
      "text/plain": [
       "plot without title"
      ]
     },
     "metadata": {
      "image/png": {
       "height": 260,
       "width": 845
      }
     },
     "output_type": "display_data"
    }
   ],
   "source": [
    "# Plot a barplot of the number of identified proteins per samples\n",
    "options(repr.plot.width=13, repr.plot.height=4, repr.plot.res=130)\n",
    "plot_numbers(data)"
   ]
  },
  {
   "cell_type": "markdown",
   "id": "ffd18810",
   "metadata": {},
   "source": [
    "This is because this data set has been imputed or filtered to have no missing proteins per sample"
   ]
  },
  {
   "cell_type": "code",
   "execution_count": 12,
   "id": "653050c0",
   "metadata": {},
   "outputs": [],
   "source": [
    "# Normalize the data\n",
    "data_norm <- normalize_vsn(data)"
   ]
  },
  {
   "cell_type": "code",
   "execution_count": 13,
   "id": "869d4d97",
   "metadata": {},
   "outputs": [
    {
     "data": {
      "image/png": "[encoded data removed]",
      "text/plain": [
       "plot without title"
      ]
     },
     "metadata": {
      "image/png": {
       "height": 1200,
       "width": 480
      }
     },
     "output_type": "display_data"
    }
   ],
   "source": [
    "# Visualize normalization by boxplots for all samples before and after normalization\n",
    "options(repr.plot.width=6, repr.plot.height=15, repr.plot.res=160)\n",
    "plot_normalization(data, data_norm)"
   ]
  },
  {
   "cell_type": "markdown",
   "id": "07d0a634",
   "metadata": {},
   "source": [
    "After normalization, the data are median centered. "
   ]
  },
  {
   "cell_type": "markdown",
   "id": "408929cc",
   "metadata": {},
   "source": [
    "## Differential protein expression"
   ]
  },
  {
   "cell_type": "code",
   "execution_count": 14,
   "id": "4e3e1c43",
   "metadata": {},
   "outputs": [
    {
     "name": "stderr",
     "output_type": "stream",
     "text": [
      "Tested contrasts: PRETREATED_vs_NAIVE\n",
      "\n"
     ]
    }
   ],
   "source": [
    "# Test treated sample versus naive\n",
    "# data_diff <- test_diff(data_norm, type = \"control\", control = \"NAIVE\")\n",
    "data_diff <- test_diff(data_norm, type = \"manual\", \n",
    "                       test = \"PRETREATED_vs_NAIVE\")"
   ]
  },
  {
   "cell_type": "code",
   "execution_count": 15,
   "id": "34bcaae2",
   "metadata": {},
   "outputs": [
    {
     "data": {
      "text/plain": [
       "class: SummarizedExperiment \n",
       "dim: 4688 44 \n",
       "metadata(0):\n",
       "assays(1): ''\n",
       "rownames(4688): A2M A8MWD9 ... ZYX ZZEF1\n",
       "rowData names(11): name hgnc_symbol ... PRETREATED_vs_NAIVE_p.adj\n",
       "  PRETREATED_vs_NAIVE_p.val\n",
       "colnames(44): CTG_2226 CTG_2227 ... CTG_3679 CTG_3680\n",
       "colData names(4): ID label condition replicate"
      ]
     },
     "metadata": {},
     "output_type": "display_data"
    }
   ],
   "source": [
    "data_diff"
   ]
  },
  {
   "cell_type": "code",
   "execution_count": 16,
   "id": "fbc571de",
   "metadata": {},
   "outputs": [],
   "source": [
    "# Denote significant proteins based on user defined cutoffs\n",
    "dep <- add_rejections(data_diff, \n",
    "                      alpha = 0.2, \n",
    "                      lfc = log2(1.5)) "
   ]
  },
  {
   "cell_type": "code",
   "execution_count": 17,
   "id": "ab85b5a4",
   "metadata": {},
   "outputs": [
    {
     "data": {
      "text/plain": [
       "class: SummarizedExperiment \n",
       "dim: 4688 44 \n",
       "metadata(0):\n",
       "assays(1): ''\n",
       "rownames(4688): A2M A8MWD9 ... ZYX ZZEF1\n",
       "rowData names(13): name hgnc_symbol ... significant\n",
       "  PRETREATED_vs_NAIVE_significant\n",
       "colnames(44): CTG_2226 CTG_2227 ... CTG_3679 CTG_3680\n",
       "colData names(4): ID label condition replicate"
      ]
     },
     "metadata": {},
     "output_type": "display_data"
    }
   ],
   "source": [
    "dep"
   ]
  },
  {
   "cell_type": "code",
   "execution_count": 18,
   "id": "04719d61",
   "metadata": {},
   "outputs": [
    {
     "data": {
      "image/png": "[encoded data removed]",
      "text/plain": [
       "plot without title"
      ]
     },
     "metadata": {
      "image/png": {
       "height": 560,
       "width": 560
      }
     },
     "output_type": "display_data"
    }
   ],
   "source": [
    "# Plot a volcano plot for the contrast\n",
    "options(repr.plot.width=7, repr.plot.height=7, repr.plot.res=160)\n",
    "plot_volcano(dep, contrast = \"PRETREATED_vs_NAIVE\", \n",
    "             label_size = 2, add_names = TRUE)"
   ]
  },
  {
   "cell_type": "code",
   "execution_count": 19,
   "id": "a4c4df68",
   "metadata": {},
   "outputs": [],
   "source": [
    "plot_single <- function(dep, proteins, type = c(\"contrast\", \"centered\"), plot = TRUE) {\n",
    "  # Reference: function from the DEP package\n",
    "  # Show error if inputs are not the required classes\n",
    "  assertthat::assert_that(inherits(dep, \"SummarizedExperiment\"),\n",
    "    is.character(proteins),\n",
    "    is.character(type),\n",
    "    is.logical(plot),\n",
    "    length(plot) == 1)\n",
    "\n",
    "  # Show error if inputs do not contain required columns\n",
    "  type <- match.arg(type)\n",
    "\n",
    "  row_data <- rowData(dep, use.names = FALSE)\n",
    "\n",
    "  if(any(!c(\"label\", \"condition\", \"replicate\") %in% colnames(colData(dep)))) {\n",
    "    stop(\"'label', 'condition' and/or 'replicate' columns are not present in '\",\n",
    "         deparse(substitute(dep)),\n",
    "         \"'\\nRun make_se() or make_se_parse() to obtain the required columns\",\n",
    "         call. = FALSE)\n",
    "  }\n",
    "  if(length(grep(\"_p.adj|_diff\", colnames(row_data))) < 1) {\n",
    "    stop(\"'[contrast]_diff' and '[contrast]_p.adj' columns are not present in '\",\n",
    "         deparse(substitute(dep)),\n",
    "         \"'\\nRun test_diff() to obtain the required columns\",\n",
    "         call. = FALSE)\n",
    "  }\n",
    "  if(!\"name\" %in% colnames(row_data)) {\n",
    "    stop(\"'name' column not present in '\",\n",
    "         deparse(substitute(dep)),\n",
    "         \"'\\nRun make_se() or make_se_parse() to obtain the required columns\",\n",
    "         call. = FALSE)\n",
    "  }\n",
    "\n",
    "  # Show error if an unvalid protein name is given\n",
    "  if(all(!proteins %in% row_data$name)) {\n",
    "    if(length(proteins) == 1) {\n",
    "      rows <- grep(substr(proteins, 1, nchar(proteins) - 1),row_data$name)\n",
    "      possibilities <- row_data$name[rows]\n",
    "    } else {\n",
    "      rows <- lapply(proteins, function(x)\n",
    "        grep(substr(x, 1, nchar(x) - 1),row_data$name))\n",
    "      possibilities <- row_data$name[unlist(rows)]\n",
    "    }\n",
    "\n",
    "    if(length(possibilities) > 0) {\n",
    "      possibilities_msg <- paste0(\n",
    "        \"Do you mean: '\",\n",
    "        paste0(possibilities, collapse = \"', '\"),\n",
    "        \"'\")\n",
    "    } else {\n",
    "      possibilities_msg <- NULL\n",
    "    }\n",
    "    stop(\"please run `plot_single()` with a valid protein names in the 'proteins' argument\\n\",\n",
    "         possibilities_msg,\n",
    "         call. = FALSE)\n",
    "  }\n",
    "  if(any(!proteins %in% row_data$name)) {\n",
    "    proteins <- proteins[proteins %in% row_data$name]\n",
    "    warning(\"Only used the following protein(s): '\",\n",
    "            paste0(proteins, collapse = \"', '\"),\n",
    "            \"'\")\n",
    "  }\n",
    "\n",
    "  # Single protein\n",
    "  subset <- dep[proteins]\n",
    "                     \n",
    "  options(dplyr.summarise.inform = FALSE)\n",
    "\n",
    "  # Plot either the centered log-intensity values\n",
    "  # per condition ('centered') or the average fold change of conditions\n",
    "  # versus the control condition ('contrast') for a single protein\n",
    "  if(type == \"centered\") {\n",
    "    # Obtain protein-centered fold change values\n",
    "    means <- rowMeans(assay(subset), na.rm = TRUE)\n",
    "    df_reps <- data.frame(assay(subset) - means) %>%\n",
    "      rownames_to_column() %>%\n",
    "      gather(ID, val, -rowname) %>%\n",
    "      left_join(., data.frame(colData(subset)), by = \"ID\")\n",
    "    df_reps$replicate <- as.factor(df_reps$replicate)\n",
    "    df <- df_reps %>%\n",
    "      group_by(condition, rowname) %>%\n",
    "      summarize(mean = mean(val, na.rm = TRUE),\n",
    "        sd = sd(val, na.rm = TRUE),\n",
    "        n = n()) %>%\n",
    "      mutate(error = qnorm(0.975) * sd / sqrt(n),\n",
    "             CI.L = mean - error,\n",
    "             CI.R = mean + error) %>%\n",
    "      as.data.frame()\n",
    "    df$rowname <- parse_factor(df$rowname, levels = proteins)\n",
    "\n",
    "    # Plot the centered intensity values for the replicates and the mean\n",
    "    p <- ggplot(df, aes(condition, mean)) +\n",
    "      geom_hline(yintercept = 0) +\n",
    "      geom_col(colour = \"black\", fill = \"grey\") +\n",
    "      geom_point(data = df_reps, aes(condition, val, col = replicate),\n",
    "                 shape = 18, size = 5, position = position_dodge(width=0.3)) +\n",
    "      geom_errorbar(aes(ymin = CI.L, ymax = CI.R), width = 0.3) +\n",
    "      labs(\n",
    "          x = \"Condition\",\n",
    "          y = expression(log[2]~\"Intensity\"~\"(\\u00B195% CI)\"),\n",
    "          col = \"Model\") +\n",
    "      facet_wrap(~rowname) +\n",
    "      theme_DEP2()\n",
    "  }\n",
    "  if(type == \"contrast\") {\n",
    "    # Select values for a single protein\n",
    "    df <- rowData(subset, use.names = FALSE) %>%\n",
    "      data.frame() %>%\n",
    "      select(name,\n",
    "             ends_with(\"_diff\"),\n",
    "             ends_with(\"_CI.L\"),\n",
    "             ends_with(\"_CI.R\")) %>%\n",
    "      gather(var, val, -name) %>%\n",
    "      mutate(contrast = gsub(\"_diff|_CI.L|_CI.R\", \"\", var),\n",
    "             var = gsub(\".*_\", \"\", var)) %>%\n",
    "      spread(var, val)\n",
    "    df$name <- parse_factor(df$name, levels = proteins)\n",
    "    suffix <- get_suffix(df$contrast)\n",
    "    if(length(suffix)) {df$contrast <- delete_suffix(df$contrast)}\n",
    "    # Plot the average fold change of conditions versus the control condition\n",
    "    p <- ggplot(df, aes(contrast, diff)) +\n",
    "      geom_hline(yintercept = 0) +\n",
    "      geom_col(colour = \"black\", fill = \"grey\") +\n",
    "      geom_errorbar(aes(ymin = CI.L, ymax = CI.R), width = 0.3) +\n",
    "      labs(x = suffix,\n",
    "           y = expression(log[2]~\"Fold change\"~\"(\\u00B195% CI)\")) +\n",
    "      facet_wrap(~name) +\n",
    "      theme_DEP2()\n",
    "  }\n",
    "  if(plot) {\n",
    "    return(p)\n",
    "  } else {\n",
    "    if(type == \"centered\") {\n",
    "      df <- df %>%\n",
    "        select(rowname, condition, mean, CI.L, CI.R)\n",
    "      colnames(df) <- c(\"protein\", \"condition\",\n",
    "        \"log2_intensity\", \"CI.L\", \"CI.R\")\n",
    "    }\n",
    "    if(type == \"contrast\") {\n",
    "      df <- df %>%\n",
    "        select(name, contrast, diff, CI.L, CI.R) %>%\n",
    "        mutate(contrast = paste0(contrast, suffix))\n",
    "      colnames(df) <- c(\"protein\", \"contrast\",\n",
    "        \"log2_fold_change\", \"CI.L\", \"CI.R\")\n",
    "    }\n",
    "    return(df)\n",
    "  }\n",
    "}"
   ]
  },
  {
   "cell_type": "code",
   "execution_count": 20,
   "id": "a5ab7bd9",
   "metadata": {},
   "outputs": [
    {
     "data": {
      "image/png": "[encoded data removed]",
      "text/plain": [
       "plot without title"
      ]
     },
     "metadata": {
      "image/png": {
       "height": 480,
       "width": 560
      }
     },
     "output_type": "display_data"
    }
   ],
   "source": [
    "options(repr.plot.width=7, repr.plot.height=6, repr.plot.res=160)\n",
    "plot_single(dep, proteins = \"DTX3L\", type = \"centered\")"
   ]
  },
  {
   "cell_type": "markdown",
   "id": "48291484",
   "metadata": {},
   "source": [
    "## Example\n",
    "This is the example data set from the package."
   ]
  },
  {
   "cell_type": "code",
   "execution_count": 136,
   "id": "0a620845",
   "metadata": {
    "scrolled": true
   },
   "outputs": [
    {
     "data": {
      "text/html": [
       "<table class=\"dataframe\">\n",
       "<caption>A data.frame: 1 × 23</caption>\n",
       "<thead>\n",
       "\t<tr><th></th><th scope=col>Protein.IDs</th><th scope=col>Majority.protein.IDs</th><th scope=col>Protein.names</th><th scope=col>Gene.names</th><th scope=col>Fasta.headers</th><th scope=col>Peptides</th><th scope=col>Razor...unique.peptides</th><th scope=col>Unique.peptides</th><th scope=col>LFQ.intensity.Ubi4_1</th><th scope=col>LFQ.intensity.Ubi4_2</th><th scope=col>...</th><th scope=col>LFQ.intensity.Ubi6_3</th><th scope=col>LFQ.intensity.Ctrl_1</th><th scope=col>LFQ.intensity.Ctrl_2</th><th scope=col>LFQ.intensity.Ctrl_3</th><th scope=col>LFQ.intensity.Ubi1_1</th><th scope=col>LFQ.intensity.Ubi1_2</th><th scope=col>LFQ.intensity.Ubi1_3</th><th scope=col>Only.identified.by.site</th><th scope=col>Reverse</th><th scope=col>Potential.contaminant</th></tr>\n",
       "\t<tr><th></th><th scope=col>&lt;chr&gt;</th><th scope=col>&lt;chr&gt;</th><th scope=col>&lt;chr&gt;</th><th scope=col>&lt;chr&gt;</th><th scope=col>&lt;chr&gt;</th><th scope=col>&lt;int&gt;</th><th scope=col>&lt;int&gt;</th><th scope=col>&lt;int&gt;</th><th scope=col>&lt;dbl&gt;</th><th scope=col>&lt;dbl&gt;</th><th scope=col>...</th><th scope=col>&lt;dbl&gt;</th><th scope=col>&lt;dbl&gt;</th><th scope=col>&lt;dbl&gt;</th><th scope=col>&lt;dbl&gt;</th><th scope=col>&lt;dbl&gt;</th><th scope=col>&lt;dbl&gt;</th><th scope=col>&lt;dbl&gt;</th><th scope=col>&lt;chr&gt;</th><th scope=col>&lt;chr&gt;</th><th scope=col>&lt;chr&gt;</th></tr>\n",
       "</thead>\n",
       "<tbody>\n",
       "\t<tr><th scope=row>1</th><td>A0AV96-2;B7Z8Z7;A0AV96;D6R9D6;D6RBS9;D6REZ6;D6R9M7;D6RCT1;D6RBP6;D6RA49;D6RFL5;Q5T0W7;Q8TBY0-2;Q8TBY0-3;Q9NQ94-5;Q8TBY0;Q9NQ94-6;Q9NQ94-3;Q9NQ94-2;F8W9F8;Q9NQ94-4;Q9NQ94</td><td>A0AV96-2;B7Z8Z7;A0AV96;D6R9D6;D6RBS9</td><td>RNA-binding protein 47</td><td>RBM47</td><td>&gt;sp|A0AV96-2|RBM47_HUMAN Isoform 2 of RNA-binding protein 47 OS=Homo sapiens GN=RBM47;&gt;tr|B7Z8Z7|B7Z8Z7_HUMAN RNA-binding protein 47 OS=Homo sapiens GN=RBM47 PE=2 SV=1;&gt;sp|A0AV96|RBM47_HUMAN RNA-binding protein 47 OS=Homo sapiens GN=RBM47 PE=1 SV=2;&gt;tr|D6R</td><td>7</td><td>7</td><td>7</td><td>35787000</td><td>24701000</td><td>...</td><td>32705000</td><td>25898000</td><td>31275000</td><td>23076000</td><td>27664000</td><td>32314000</td><td>31097000</td><td></td><td></td><td></td></tr>\n",
       "</tbody>\n",
       "</table>\n"
      ],
      "text/latex": [
       "A data.frame: 1 × 23\n",
       "\\begin{tabular}{r|lllllllllllllllllllll}\n",
       "  & Protein.IDs & Majority.protein.IDs & Protein.names & Gene.names & Fasta.headers & Peptides & Razor...unique.peptides & Unique.peptides & LFQ.intensity.Ubi4\\_1 & LFQ.intensity.Ubi4\\_2 & ... & LFQ.intensity.Ubi6\\_3 & LFQ.intensity.Ctrl\\_1 & LFQ.intensity.Ctrl\\_2 & LFQ.intensity.Ctrl\\_3 & LFQ.intensity.Ubi1\\_1 & LFQ.intensity.Ubi1\\_2 & LFQ.intensity.Ubi1\\_3 & Only.identified.by.site & Reverse & Potential.contaminant\\\\\n",
       "  & <chr> & <chr> & <chr> & <chr> & <chr> & <int> & <int> & <int> & <dbl> & <dbl> & ... & <dbl> & <dbl> & <dbl> & <dbl> & <dbl> & <dbl> & <dbl> & <chr> & <chr> & <chr>\\\\\n",
       "\\hline\n",
       "\t1 & A0AV96-2;B7Z8Z7;A0AV96;D6R9D6;D6RBS9;D6REZ6;D6R9M7;D6RCT1;D6RBP6;D6RA49;D6RFL5;Q5T0W7;Q8TBY0-2;Q8TBY0-3;Q9NQ94-5;Q8TBY0;Q9NQ94-6;Q9NQ94-3;Q9NQ94-2;F8W9F8;Q9NQ94-4;Q9NQ94 & A0AV96-2;B7Z8Z7;A0AV96;D6R9D6;D6RBS9 & RNA-binding protein 47 & RBM47 & >sp\\textbar{}A0AV96-2\\textbar{}RBM47\\_HUMAN Isoform 2 of RNA-binding protein 47 OS=Homo sapiens GN=RBM47;>tr\\textbar{}B7Z8Z7\\textbar{}B7Z8Z7\\_HUMAN RNA-binding protein 47 OS=Homo sapiens GN=RBM47 PE=2 SV=1;>sp\\textbar{}A0AV96\\textbar{}RBM47\\_HUMAN RNA-binding protein 47 OS=Homo sapiens GN=RBM47 PE=1 SV=2;>tr\\textbar{}D6R & 7 & 7 & 7 & 35787000 & 24701000 & ... & 32705000 & 25898000 & 31275000 & 23076000 & 27664000 & 32314000 & 31097000 &  &  & \\\\\n",
       "\\end{tabular}\n"
      ],
      "text/markdown": [
       "\n",
       "A data.frame: 1 × 23\n",
       "\n",
       "| <!--/--> | Protein.IDs &lt;chr&gt; | Majority.protein.IDs &lt;chr&gt; | Protein.names &lt;chr&gt; | Gene.names &lt;chr&gt; | Fasta.headers &lt;chr&gt; | Peptides &lt;int&gt; | Razor...unique.peptides &lt;int&gt; | Unique.peptides &lt;int&gt; | LFQ.intensity.Ubi4_1 &lt;dbl&gt; | LFQ.intensity.Ubi4_2 &lt;dbl&gt; | ... ... | LFQ.intensity.Ubi6_3 &lt;dbl&gt; | LFQ.intensity.Ctrl_1 &lt;dbl&gt; | LFQ.intensity.Ctrl_2 &lt;dbl&gt; | LFQ.intensity.Ctrl_3 &lt;dbl&gt; | LFQ.intensity.Ubi1_1 &lt;dbl&gt; | LFQ.intensity.Ubi1_2 &lt;dbl&gt; | LFQ.intensity.Ubi1_3 &lt;dbl&gt; | Only.identified.by.site &lt;chr&gt; | Reverse &lt;chr&gt; | Potential.contaminant &lt;chr&gt; |\n",
       "|---|---|---|---|---|---|---|---|---|---|---|---|---|---|---|---|---|---|---|---|---|---|\n",
       "| 1 | A0AV96-2;B7Z8Z7;A0AV96;D6R9D6;D6RBS9;D6REZ6;D6R9M7;D6RCT1;D6RBP6;D6RA49;D6RFL5;Q5T0W7;Q8TBY0-2;Q8TBY0-3;Q9NQ94-5;Q8TBY0;Q9NQ94-6;Q9NQ94-3;Q9NQ94-2;F8W9F8;Q9NQ94-4;Q9NQ94 | A0AV96-2;B7Z8Z7;A0AV96;D6R9D6;D6RBS9 | RNA-binding protein 47 | RBM47 | &gt;sp|A0AV96-2|RBM47_HUMAN Isoform 2 of RNA-binding protein 47 OS=Homo sapiens GN=RBM47;&gt;tr|B7Z8Z7|B7Z8Z7_HUMAN RNA-binding protein 47 OS=Homo sapiens GN=RBM47 PE=2 SV=1;&gt;sp|A0AV96|RBM47_HUMAN RNA-binding protein 47 OS=Homo sapiens GN=RBM47 PE=1 SV=2;&gt;tr|D6R | 7 | 7 | 7 | 35787000 | 24701000 | ... | 32705000 | 25898000 | 31275000 | 23076000 | 27664000 | 32314000 | 31097000 | <!----> | <!----> | <!----> |\n",
       "\n"
      ],
      "text/plain": [
       "  Protein.IDs                                                                                                                                                              \n",
       "1 A0AV96-2;B7Z8Z7;A0AV96;D6R9D6;D6RBS9;D6REZ6;D6R9M7;D6RCT1;D6RBP6;D6RA49;D6RFL5;Q5T0W7;Q8TBY0-2;Q8TBY0-3;Q9NQ94-5;Q8TBY0;Q9NQ94-6;Q9NQ94-3;Q9NQ94-2;F8W9F8;Q9NQ94-4;Q9NQ94\n",
       "  Majority.protein.IDs                 Protein.names          Gene.names\n",
       "1 A0AV96-2;B7Z8Z7;A0AV96;D6R9D6;D6RBS9 RNA-binding protein 47 RBM47     \n",
       "  Fasta.headers                                                                                                                                                                                                                                                   \n",
       "1 >sp|A0AV96-2|RBM47_HUMAN Isoform 2 of RNA-binding protein 47 OS=Homo sapiens GN=RBM47;>tr|B7Z8Z7|B7Z8Z7_HUMAN RNA-binding protein 47 OS=Homo sapiens GN=RBM47 PE=2 SV=1;>sp|A0AV96|RBM47_HUMAN RNA-binding protein 47 OS=Homo sapiens GN=RBM47 PE=1 SV=2;>tr|D6R\n",
       "  Peptides Razor...unique.peptides Unique.peptides LFQ.intensity.Ubi4_1\n",
       "1 7        7                       7               35787000            \n",
       "  LFQ.intensity.Ubi4_2 ... LFQ.intensity.Ubi6_3 LFQ.intensity.Ctrl_1\n",
       "1 24701000             ... 32705000             25898000            \n",
       "  LFQ.intensity.Ctrl_2 LFQ.intensity.Ctrl_3 LFQ.intensity.Ubi1_1\n",
       "1 31275000             23076000             27664000            \n",
       "  LFQ.intensity.Ubi1_2 LFQ.intensity.Ubi1_3 Only.identified.by.site Reverse\n",
       "1 32314000             31097000                                            \n",
       "  Potential.contaminant\n",
       "1                      "
      ]
     },
     "metadata": {},
     "output_type": "display_data"
    }
   ],
   "source": [
    "data <- UbiLength\n",
    "# We filter for contaminant proteins and decoy database hits, \n",
    "# which are indicated by \"+\" in the columns \"Potential.contaminants\" and \"Reverse\", respectively. \n",
    "data <- filter(data, Reverse != \"+\", Potential.contaminant != \"+\")\n",
    "head(data, 1)"
   ]
  },
  {
   "cell_type": "code",
   "execution_count": 137,
   "id": "072f3ebf",
   "metadata": {},
   "outputs": [],
   "source": [
    "# data %>% group_by(Gene.names) %>% summarize(frequency = n()) %>% \n",
    "#   arrange(desc(frequency)) %>% filter(frequency > 1)"
   ]
  },
  {
   "cell_type": "code",
   "execution_count": 138,
   "id": "3768b20c",
   "metadata": {},
   "outputs": [
    {
     "data": {
      "text/html": [
       "<table class=\"dataframe\">\n",
       "<caption>A data.frame: 1 × 25</caption>\n",
       "<thead>\n",
       "\t<tr><th></th><th scope=col>Protein.IDs</th><th scope=col>Majority.protein.IDs</th><th scope=col>Protein.names</th><th scope=col>Gene.names</th><th scope=col>Fasta.headers</th><th scope=col>Peptides</th><th scope=col>Razor...unique.peptides</th><th scope=col>Unique.peptides</th><th scope=col>LFQ.intensity.Ubi4_1</th><th scope=col>LFQ.intensity.Ubi4_2</th><th scope=col>...</th><th scope=col>LFQ.intensity.Ctrl_2</th><th scope=col>LFQ.intensity.Ctrl_3</th><th scope=col>LFQ.intensity.Ubi1_1</th><th scope=col>LFQ.intensity.Ubi1_2</th><th scope=col>LFQ.intensity.Ubi1_3</th><th scope=col>Only.identified.by.site</th><th scope=col>Reverse</th><th scope=col>Potential.contaminant</th><th scope=col>name</th><th scope=col>ID</th></tr>\n",
       "\t<tr><th></th><th scope=col>&lt;chr&gt;</th><th scope=col>&lt;chr&gt;</th><th scope=col>&lt;chr&gt;</th><th scope=col>&lt;chr&gt;</th><th scope=col>&lt;chr&gt;</th><th scope=col>&lt;int&gt;</th><th scope=col>&lt;int&gt;</th><th scope=col>&lt;int&gt;</th><th scope=col>&lt;dbl&gt;</th><th scope=col>&lt;dbl&gt;</th><th scope=col>...</th><th scope=col>&lt;dbl&gt;</th><th scope=col>&lt;dbl&gt;</th><th scope=col>&lt;dbl&gt;</th><th scope=col>&lt;dbl&gt;</th><th scope=col>&lt;dbl&gt;</th><th scope=col>&lt;chr&gt;</th><th scope=col>&lt;chr&gt;</th><th scope=col>&lt;chr&gt;</th><th scope=col>&lt;chr&gt;</th><th scope=col>&lt;chr&gt;</th></tr>\n",
       "</thead>\n",
       "<tbody>\n",
       "\t<tr><th scope=row>1</th><td>A0AV96-2;B7Z8Z7;A0AV96;D6R9D6;D6RBS9;D6REZ6;D6R9M7;D6RCT1;D6RBP6;D6RA49;D6RFL5;Q5T0W7;Q8TBY0-2;Q8TBY0-3;Q9NQ94-5;Q8TBY0;Q9NQ94-6;Q9NQ94-3;Q9NQ94-2;F8W9F8;Q9NQ94-4;Q9NQ94</td><td>A0AV96-2;B7Z8Z7;A0AV96;D6R9D6;D6RBS9</td><td>RNA-binding protein 47</td><td>RBM47</td><td>&gt;sp|A0AV96-2|RBM47_HUMAN Isoform 2 of RNA-binding protein 47 OS=Homo sapiens GN=RBM47;&gt;tr|B7Z8Z7|B7Z8Z7_HUMAN RNA-binding protein 47 OS=Homo sapiens GN=RBM47 PE=2 SV=1;&gt;sp|A0AV96|RBM47_HUMAN RNA-binding protein 47 OS=Homo sapiens GN=RBM47 PE=1 SV=2;&gt;tr|D6R</td><td>7</td><td>7</td><td>7</td><td>35787000</td><td>24701000</td><td>...</td><td>31275000</td><td>23076000</td><td>27664000</td><td>32314000</td><td>31097000</td><td></td><td></td><td></td><td>RBM47</td><td>A0AV96-2</td></tr>\n",
       "</tbody>\n",
       "</table>\n"
      ],
      "text/latex": [
       "A data.frame: 1 × 25\n",
       "\\begin{tabular}{r|lllllllllllllllllllll}\n",
       "  & Protein.IDs & Majority.protein.IDs & Protein.names & Gene.names & Fasta.headers & Peptides & Razor...unique.peptides & Unique.peptides & LFQ.intensity.Ubi4\\_1 & LFQ.intensity.Ubi4\\_2 & ... & LFQ.intensity.Ctrl\\_2 & LFQ.intensity.Ctrl\\_3 & LFQ.intensity.Ubi1\\_1 & LFQ.intensity.Ubi1\\_2 & LFQ.intensity.Ubi1\\_3 & Only.identified.by.site & Reverse & Potential.contaminant & name & ID\\\\\n",
       "  & <chr> & <chr> & <chr> & <chr> & <chr> & <int> & <int> & <int> & <dbl> & <dbl> & ... & <dbl> & <dbl> & <dbl> & <dbl> & <dbl> & <chr> & <chr> & <chr> & <chr> & <chr>\\\\\n",
       "\\hline\n",
       "\t1 & A0AV96-2;B7Z8Z7;A0AV96;D6R9D6;D6RBS9;D6REZ6;D6R9M7;D6RCT1;D6RBP6;D6RA49;D6RFL5;Q5T0W7;Q8TBY0-2;Q8TBY0-3;Q9NQ94-5;Q8TBY0;Q9NQ94-6;Q9NQ94-3;Q9NQ94-2;F8W9F8;Q9NQ94-4;Q9NQ94 & A0AV96-2;B7Z8Z7;A0AV96;D6R9D6;D6RBS9 & RNA-binding protein 47 & RBM47 & >sp\\textbar{}A0AV96-2\\textbar{}RBM47\\_HUMAN Isoform 2 of RNA-binding protein 47 OS=Homo sapiens GN=RBM47;>tr\\textbar{}B7Z8Z7\\textbar{}B7Z8Z7\\_HUMAN RNA-binding protein 47 OS=Homo sapiens GN=RBM47 PE=2 SV=1;>sp\\textbar{}A0AV96\\textbar{}RBM47\\_HUMAN RNA-binding protein 47 OS=Homo sapiens GN=RBM47 PE=1 SV=2;>tr\\textbar{}D6R & 7 & 7 & 7 & 35787000 & 24701000 & ... & 31275000 & 23076000 & 27664000 & 32314000 & 31097000 &  &  &  & RBM47 & A0AV96-2\\\\\n",
       "\\end{tabular}\n"
      ],
      "text/markdown": [
       "\n",
       "A data.frame: 1 × 25\n",
       "\n",
       "| <!--/--> | Protein.IDs &lt;chr&gt; | Majority.protein.IDs &lt;chr&gt; | Protein.names &lt;chr&gt; | Gene.names &lt;chr&gt; | Fasta.headers &lt;chr&gt; | Peptides &lt;int&gt; | Razor...unique.peptides &lt;int&gt; | Unique.peptides &lt;int&gt; | LFQ.intensity.Ubi4_1 &lt;dbl&gt; | LFQ.intensity.Ubi4_2 &lt;dbl&gt; | ... ... | LFQ.intensity.Ctrl_2 &lt;dbl&gt; | LFQ.intensity.Ctrl_3 &lt;dbl&gt; | LFQ.intensity.Ubi1_1 &lt;dbl&gt; | LFQ.intensity.Ubi1_2 &lt;dbl&gt; | LFQ.intensity.Ubi1_3 &lt;dbl&gt; | Only.identified.by.site &lt;chr&gt; | Reverse &lt;chr&gt; | Potential.contaminant &lt;chr&gt; | name &lt;chr&gt; | ID &lt;chr&gt; |\n",
       "|---|---|---|---|---|---|---|---|---|---|---|---|---|---|---|---|---|---|---|---|---|---|\n",
       "| 1 | A0AV96-2;B7Z8Z7;A0AV96;D6R9D6;D6RBS9;D6REZ6;D6R9M7;D6RCT1;D6RBP6;D6RA49;D6RFL5;Q5T0W7;Q8TBY0-2;Q8TBY0-3;Q9NQ94-5;Q8TBY0;Q9NQ94-6;Q9NQ94-3;Q9NQ94-2;F8W9F8;Q9NQ94-4;Q9NQ94 | A0AV96-2;B7Z8Z7;A0AV96;D6R9D6;D6RBS9 | RNA-binding protein 47 | RBM47 | &gt;sp|A0AV96-2|RBM47_HUMAN Isoform 2 of RNA-binding protein 47 OS=Homo sapiens GN=RBM47;&gt;tr|B7Z8Z7|B7Z8Z7_HUMAN RNA-binding protein 47 OS=Homo sapiens GN=RBM47 PE=2 SV=1;&gt;sp|A0AV96|RBM47_HUMAN RNA-binding protein 47 OS=Homo sapiens GN=RBM47 PE=1 SV=2;&gt;tr|D6R | 7 | 7 | 7 | 35787000 | 24701000 | ... | 31275000 | 23076000 | 27664000 | 32314000 | 31097000 | <!----> | <!----> | <!----> | RBM47 | A0AV96-2 |\n",
       "\n"
      ],
      "text/plain": [
       "  Protein.IDs                                                                                                                                                              \n",
       "1 A0AV96-2;B7Z8Z7;A0AV96;D6R9D6;D6RBS9;D6REZ6;D6R9M7;D6RCT1;D6RBP6;D6RA49;D6RFL5;Q5T0W7;Q8TBY0-2;Q8TBY0-3;Q9NQ94-5;Q8TBY0;Q9NQ94-6;Q9NQ94-3;Q9NQ94-2;F8W9F8;Q9NQ94-4;Q9NQ94\n",
       "  Majority.protein.IDs                 Protein.names          Gene.names\n",
       "1 A0AV96-2;B7Z8Z7;A0AV96;D6R9D6;D6RBS9 RNA-binding protein 47 RBM47     \n",
       "  Fasta.headers                                                                                                                                                                                                                                                   \n",
       "1 >sp|A0AV96-2|RBM47_HUMAN Isoform 2 of RNA-binding protein 47 OS=Homo sapiens GN=RBM47;>tr|B7Z8Z7|B7Z8Z7_HUMAN RNA-binding protein 47 OS=Homo sapiens GN=RBM47 PE=2 SV=1;>sp|A0AV96|RBM47_HUMAN RNA-binding protein 47 OS=Homo sapiens GN=RBM47 PE=1 SV=2;>tr|D6R\n",
       "  Peptides Razor...unique.peptides Unique.peptides LFQ.intensity.Ubi4_1\n",
       "1 7        7                       7               35787000            \n",
       "  LFQ.intensity.Ubi4_2 ... LFQ.intensity.Ctrl_2 LFQ.intensity.Ctrl_3\n",
       "1 24701000             ... 31275000             23076000            \n",
       "  LFQ.intensity.Ubi1_1 LFQ.intensity.Ubi1_2 LFQ.intensity.Ubi1_3\n",
       "1 27664000             32314000             31097000            \n",
       "  Only.identified.by.site Reverse Potential.contaminant name  ID      \n",
       "1                                                       RBM47 A0AV96-2"
      ]
     },
     "metadata": {},
     "output_type": "display_data"
    }
   ],
   "source": [
    "# Make unique names using the annotation in the \"Gene.names\" column \n",
    "# as primary names and the annotation in \"Protein.IDs\" as name \n",
    "# for those that do not have an gene name.\n",
    "data_unique <- make_unique(data, \"Gene.names\", \"Protein.IDs\", delim = \";\")\n",
    "head(data_unique, 1)"
   ]
  },
  {
   "cell_type": "code",
   "execution_count": 139,
   "id": "d8b2860d",
   "metadata": {},
   "outputs": [
    {
     "data": {
      "text/plain": [
       "class: SummarizedExperiment \n",
       "dim: 2941 12 \n",
       "metadata(0):\n",
       "assays(1): ''\n",
       "rownames(2941): RBM47 UBA6 ... ATXN2.3 X6RHB9\n",
       "rowData names(13): Protein.IDs Majority.protein.IDs ... name ID\n",
       "colnames(12): Ubi4_1 Ubi4_2 ... Ubi1_2 Ubi1_3\n",
       "colData names(4): label ID condition replicate"
      ]
     },
     "metadata": {},
     "output_type": "display_data"
    }
   ],
   "source": [
    "# Generate a SummarizedExperiment object using an experimental design\n",
    "LFQ_columns <- grep(\"LFQ.\", colnames(data_unique)) # get LFQ column numbers\n",
    "experimental_design <- UbiLength_ExpDesign\n",
    "data_se <- make_se(data_unique, LFQ_columns, experimental_design)\n",
    "\n",
    "# Generate a SummarizedExperiment object by parsing condition information from the column names\n",
    "LFQ_columns <- grep(\"LFQ.\", colnames(data_unique)) # get LFQ column numbers\n",
    "data_se_parsed <- make_se_parse(data_unique, LFQ_columns)\n",
    "\n",
    "# Let's have a look at the SummarizedExperiment object\n",
    "data_se"
   ]
  },
  {
   "cell_type": "code",
   "execution_count": 140,
   "id": "e2c25fb1",
   "metadata": {
    "scrolled": true
   },
   "outputs": [
    {
     "data": {
      "text/html": [
       "<table class=\"dataframe\">\n",
       "<caption>A data.frame: 1 × 13</caption>\n",
       "<thead>\n",
       "\t<tr><th></th><th scope=col>Protein.IDs</th><th scope=col>Majority.protein.IDs</th><th scope=col>Protein.names</th><th scope=col>Gene.names</th><th scope=col>Fasta.headers</th><th scope=col>Peptides</th><th scope=col>Razor...unique.peptides</th><th scope=col>Unique.peptides</th><th scope=col>Only.identified.by.site</th><th scope=col>Reverse</th><th scope=col>Potential.contaminant</th><th scope=col>name</th><th scope=col>ID</th></tr>\n",
       "\t<tr><th></th><th scope=col>&lt;chr&gt;</th><th scope=col>&lt;chr&gt;</th><th scope=col>&lt;chr&gt;</th><th scope=col>&lt;chr&gt;</th><th scope=col>&lt;chr&gt;</th><th scope=col>&lt;int&gt;</th><th scope=col>&lt;int&gt;</th><th scope=col>&lt;int&gt;</th><th scope=col>&lt;chr&gt;</th><th scope=col>&lt;chr&gt;</th><th scope=col>&lt;chr&gt;</th><th scope=col>&lt;chr&gt;</th><th scope=col>&lt;chr&gt;</th></tr>\n",
       "</thead>\n",
       "<tbody>\n",
       "\t<tr><th scope=row>RBM47</th><td>A0AV96-2;B7Z8Z7;A0AV96;D6R9D6;D6RBS9;D6REZ6;D6R9M7;D6RCT1;D6RBP6;D6RA49;D6RFL5;Q5T0W7;Q8TBY0-2;Q8TBY0-3;Q9NQ94-5;Q8TBY0;Q9NQ94-6;Q9NQ94-3;Q9NQ94-2;F8W9F8;Q9NQ94-4;Q9NQ94</td><td>A0AV96-2;B7Z8Z7;A0AV96;D6R9D6;D6RBS9</td><td>RNA-binding protein 47</td><td>RBM47</td><td>&gt;sp|A0AV96-2|RBM47_HUMAN Isoform 2 of RNA-binding protein 47 OS=Homo sapiens GN=RBM47;&gt;tr|B7Z8Z7|B7Z8Z7_HUMAN RNA-binding protein 47 OS=Homo sapiens GN=RBM47 PE=2 SV=1;&gt;sp|A0AV96|RBM47_HUMAN RNA-binding protein 47 OS=Homo sapiens GN=RBM47 PE=1 SV=2;&gt;tr|D6R</td><td>7</td><td>7</td><td>7</td><td></td><td></td><td></td><td>RBM47</td><td>A0AV96-2</td></tr>\n",
       "</tbody>\n",
       "</table>\n"
      ],
      "text/latex": [
       "A data.frame: 1 × 13\n",
       "\\begin{tabular}{r|lllllllllllll}\n",
       "  & Protein.IDs & Majority.protein.IDs & Protein.names & Gene.names & Fasta.headers & Peptides & Razor...unique.peptides & Unique.peptides & Only.identified.by.site & Reverse & Potential.contaminant & name & ID\\\\\n",
       "  & <chr> & <chr> & <chr> & <chr> & <chr> & <int> & <int> & <int> & <chr> & <chr> & <chr> & <chr> & <chr>\\\\\n",
       "\\hline\n",
       "\tRBM47 & A0AV96-2;B7Z8Z7;A0AV96;D6R9D6;D6RBS9;D6REZ6;D6R9M7;D6RCT1;D6RBP6;D6RA49;D6RFL5;Q5T0W7;Q8TBY0-2;Q8TBY0-3;Q9NQ94-5;Q8TBY0;Q9NQ94-6;Q9NQ94-3;Q9NQ94-2;F8W9F8;Q9NQ94-4;Q9NQ94 & A0AV96-2;B7Z8Z7;A0AV96;D6R9D6;D6RBS9 & RNA-binding protein 47 & RBM47 & >sp\\textbar{}A0AV96-2\\textbar{}RBM47\\_HUMAN Isoform 2 of RNA-binding protein 47 OS=Homo sapiens GN=RBM47;>tr\\textbar{}B7Z8Z7\\textbar{}B7Z8Z7\\_HUMAN RNA-binding protein 47 OS=Homo sapiens GN=RBM47 PE=2 SV=1;>sp\\textbar{}A0AV96\\textbar{}RBM47\\_HUMAN RNA-binding protein 47 OS=Homo sapiens GN=RBM47 PE=1 SV=2;>tr\\textbar{}D6R & 7 & 7 & 7 &  &  &  & RBM47 & A0AV96-2\\\\\n",
       "\\end{tabular}\n"
      ],
      "text/markdown": [
       "\n",
       "A data.frame: 1 × 13\n",
       "\n",
       "| <!--/--> | Protein.IDs &lt;chr&gt; | Majority.protein.IDs &lt;chr&gt; | Protein.names &lt;chr&gt; | Gene.names &lt;chr&gt; | Fasta.headers &lt;chr&gt; | Peptides &lt;int&gt; | Razor...unique.peptides &lt;int&gt; | Unique.peptides &lt;int&gt; | Only.identified.by.site &lt;chr&gt; | Reverse &lt;chr&gt; | Potential.contaminant &lt;chr&gt; | name &lt;chr&gt; | ID &lt;chr&gt; |\n",
       "|---|---|---|---|---|---|---|---|---|---|---|---|---|---|\n",
       "| RBM47 | A0AV96-2;B7Z8Z7;A0AV96;D6R9D6;D6RBS9;D6REZ6;D6R9M7;D6RCT1;D6RBP6;D6RA49;D6RFL5;Q5T0W7;Q8TBY0-2;Q8TBY0-3;Q9NQ94-5;Q8TBY0;Q9NQ94-6;Q9NQ94-3;Q9NQ94-2;F8W9F8;Q9NQ94-4;Q9NQ94 | A0AV96-2;B7Z8Z7;A0AV96;D6R9D6;D6RBS9 | RNA-binding protein 47 | RBM47 | &gt;sp|A0AV96-2|RBM47_HUMAN Isoform 2 of RNA-binding protein 47 OS=Homo sapiens GN=RBM47;&gt;tr|B7Z8Z7|B7Z8Z7_HUMAN RNA-binding protein 47 OS=Homo sapiens GN=RBM47 PE=2 SV=1;&gt;sp|A0AV96|RBM47_HUMAN RNA-binding protein 47 OS=Homo sapiens GN=RBM47 PE=1 SV=2;&gt;tr|D6R | 7 | 7 | 7 | <!----> | <!----> | <!----> | RBM47 | A0AV96-2 |\n",
       "\n"
      ],
      "text/plain": [
       "      Protein.IDs                                                                                                                                                              \n",
       "RBM47 A0AV96-2;B7Z8Z7;A0AV96;D6R9D6;D6RBS9;D6REZ6;D6R9M7;D6RCT1;D6RBP6;D6RA49;D6RFL5;Q5T0W7;Q8TBY0-2;Q8TBY0-3;Q9NQ94-5;Q8TBY0;Q9NQ94-6;Q9NQ94-3;Q9NQ94-2;F8W9F8;Q9NQ94-4;Q9NQ94\n",
       "      Majority.protein.IDs                 Protein.names          Gene.names\n",
       "RBM47 A0AV96-2;B7Z8Z7;A0AV96;D6R9D6;D6RBS9 RNA-binding protein 47 RBM47     \n",
       "      Fasta.headers                                                                                                                                                                                                                                                   \n",
       "RBM47 >sp|A0AV96-2|RBM47_HUMAN Isoform 2 of RNA-binding protein 47 OS=Homo sapiens GN=RBM47;>tr|B7Z8Z7|B7Z8Z7_HUMAN RNA-binding protein 47 OS=Homo sapiens GN=RBM47 PE=2 SV=1;>sp|A0AV96|RBM47_HUMAN RNA-binding protein 47 OS=Homo sapiens GN=RBM47 PE=1 SV=2;>tr|D6R\n",
       "      Peptides Razor...unique.peptides Unique.peptides Only.identified.by.site\n",
       "RBM47 7        7                       7                                      \n",
       "      Reverse Potential.contaminant name  ID      \n",
       "RBM47                               RBM47 A0AV96-2"
      ]
     },
     "metadata": {},
     "output_type": "display_data"
    }
   ],
   "source": [
    "head(as.data.frame(rowData(data_se)), 1)"
   ]
  },
  {
   "cell_type": "code",
   "execution_count": 141,
   "id": "b6d087db",
   "metadata": {},
   "outputs": [
    {
     "data": {
      "text/html": [
       "<table class=\"dataframe\">\n",
       "<caption>A data.frame: 12 × 4</caption>\n",
       "<thead>\n",
       "\t<tr><th></th><th scope=col>label</th><th scope=col>ID</th><th scope=col>condition</th><th scope=col>replicate</th></tr>\n",
       "\t<tr><th></th><th scope=col>&lt;chr&gt;</th><th scope=col>&lt;chr&gt;</th><th scope=col>&lt;chr&gt;</th><th scope=col>&lt;dbl&gt;</th></tr>\n",
       "</thead>\n",
       "<tbody>\n",
       "\t<tr><th scope=row>Ubi4_1</th><td>Ubi4_1</td><td>Ubi4_1</td><td>Ubi4</td><td>1</td></tr>\n",
       "\t<tr><th scope=row>Ubi4_2</th><td>Ubi4_2</td><td>Ubi4_2</td><td>Ubi4</td><td>2</td></tr>\n",
       "\t<tr><th scope=row>Ubi4_3</th><td>Ubi4_3</td><td>Ubi4_3</td><td>Ubi4</td><td>3</td></tr>\n",
       "\t<tr><th scope=row>Ubi6_1</th><td>Ubi6_1</td><td>Ubi6_1</td><td>Ubi6</td><td>1</td></tr>\n",
       "\t<tr><th scope=row>Ubi6_2</th><td>Ubi6_2</td><td>Ubi6_2</td><td>Ubi6</td><td>2</td></tr>\n",
       "\t<tr><th scope=row>Ubi6_3</th><td>Ubi6_3</td><td>Ubi6_3</td><td>Ubi6</td><td>3</td></tr>\n",
       "\t<tr><th scope=row>Ctrl_1</th><td>Ctrl_1</td><td>Ctrl_1</td><td>Ctrl</td><td>1</td></tr>\n",
       "\t<tr><th scope=row>Ctrl_2</th><td>Ctrl_2</td><td>Ctrl_2</td><td>Ctrl</td><td>2</td></tr>\n",
       "\t<tr><th scope=row>Ctrl_3</th><td>Ctrl_3</td><td>Ctrl_3</td><td>Ctrl</td><td>3</td></tr>\n",
       "\t<tr><th scope=row>Ubi1_1</th><td>Ubi1_1</td><td>Ubi1_1</td><td>Ubi1</td><td>1</td></tr>\n",
       "\t<tr><th scope=row>Ubi1_2</th><td>Ubi1_2</td><td>Ubi1_2</td><td>Ubi1</td><td>2</td></tr>\n",
       "\t<tr><th scope=row>Ubi1_3</th><td>Ubi1_3</td><td>Ubi1_3</td><td>Ubi1</td><td>3</td></tr>\n",
       "</tbody>\n",
       "</table>\n"
      ],
      "text/latex": [
       "A data.frame: 12 × 4\n",
       "\\begin{tabular}{r|llll}\n",
       "  & label & ID & condition & replicate\\\\\n",
       "  & <chr> & <chr> & <chr> & <dbl>\\\\\n",
       "\\hline\n",
       "\tUbi4\\_1 & Ubi4\\_1 & Ubi4\\_1 & Ubi4 & 1\\\\\n",
       "\tUbi4\\_2 & Ubi4\\_2 & Ubi4\\_2 & Ubi4 & 2\\\\\n",
       "\tUbi4\\_3 & Ubi4\\_3 & Ubi4\\_3 & Ubi4 & 3\\\\\n",
       "\tUbi6\\_1 & Ubi6\\_1 & Ubi6\\_1 & Ubi6 & 1\\\\\n",
       "\tUbi6\\_2 & Ubi6\\_2 & Ubi6\\_2 & Ubi6 & 2\\\\\n",
       "\tUbi6\\_3 & Ubi6\\_3 & Ubi6\\_3 & Ubi6 & 3\\\\\n",
       "\tCtrl\\_1 & Ctrl\\_1 & Ctrl\\_1 & Ctrl & 1\\\\\n",
       "\tCtrl\\_2 & Ctrl\\_2 & Ctrl\\_2 & Ctrl & 2\\\\\n",
       "\tCtrl\\_3 & Ctrl\\_3 & Ctrl\\_3 & Ctrl & 3\\\\\n",
       "\tUbi1\\_1 & Ubi1\\_1 & Ubi1\\_1 & Ubi1 & 1\\\\\n",
       "\tUbi1\\_2 & Ubi1\\_2 & Ubi1\\_2 & Ubi1 & 2\\\\\n",
       "\tUbi1\\_3 & Ubi1\\_3 & Ubi1\\_3 & Ubi1 & 3\\\\\n",
       "\\end{tabular}\n"
      ],
      "text/markdown": [
       "\n",
       "A data.frame: 12 × 4\n",
       "\n",
       "| <!--/--> | label &lt;chr&gt; | ID &lt;chr&gt; | condition &lt;chr&gt; | replicate &lt;dbl&gt; |\n",
       "|---|---|---|---|---|\n",
       "| Ubi4_1 | Ubi4_1 | Ubi4_1 | Ubi4 | 1 |\n",
       "| Ubi4_2 | Ubi4_2 | Ubi4_2 | Ubi4 | 2 |\n",
       "| Ubi4_3 | Ubi4_3 | Ubi4_3 | Ubi4 | 3 |\n",
       "| Ubi6_1 | Ubi6_1 | Ubi6_1 | Ubi6 | 1 |\n",
       "| Ubi6_2 | Ubi6_2 | Ubi6_2 | Ubi6 | 2 |\n",
       "| Ubi6_3 | Ubi6_3 | Ubi6_3 | Ubi6 | 3 |\n",
       "| Ctrl_1 | Ctrl_1 | Ctrl_1 | Ctrl | 1 |\n",
       "| Ctrl_2 | Ctrl_2 | Ctrl_2 | Ctrl | 2 |\n",
       "| Ctrl_3 | Ctrl_3 | Ctrl_3 | Ctrl | 3 |\n",
       "| Ubi1_1 | Ubi1_1 | Ubi1_1 | Ubi1 | 1 |\n",
       "| Ubi1_2 | Ubi1_2 | Ubi1_2 | Ubi1 | 2 |\n",
       "| Ubi1_3 | Ubi1_3 | Ubi1_3 | Ubi1 | 3 |\n",
       "\n"
      ],
      "text/plain": [
       "       label  ID     condition replicate\n",
       "Ubi4_1 Ubi4_1 Ubi4_1 Ubi4      1        \n",
       "Ubi4_2 Ubi4_2 Ubi4_2 Ubi4      2        \n",
       "Ubi4_3 Ubi4_3 Ubi4_3 Ubi4      3        \n",
       "Ubi6_1 Ubi6_1 Ubi6_1 Ubi6      1        \n",
       "Ubi6_2 Ubi6_2 Ubi6_2 Ubi6      2        \n",
       "Ubi6_3 Ubi6_3 Ubi6_3 Ubi6      3        \n",
       "Ctrl_1 Ctrl_1 Ctrl_1 Ctrl      1        \n",
       "Ctrl_2 Ctrl_2 Ctrl_2 Ctrl      2        \n",
       "Ctrl_3 Ctrl_3 Ctrl_3 Ctrl      3        \n",
       "Ubi1_1 Ubi1_1 Ubi1_1 Ubi1      1        \n",
       "Ubi1_2 Ubi1_2 Ubi1_2 Ubi1      2        \n",
       "Ubi1_3 Ubi1_3 Ubi1_3 Ubi1      3        "
      ]
     },
     "metadata": {},
     "output_type": "display_data"
    }
   ],
   "source": [
    "as.data.frame(colData(data_se))"
   ]
  }
 ],
 "metadata": {
  "kernelspec": {
   "display_name": "R",
   "language": "R",
   "name": "ir"
  },
  "language_info": {
   "codemirror_mode": "r",
   "file_extension": ".r",
   "mimetype": "text/x-r-source",
   "name": "R",
   "pygments_lexer": "r",
   "version": "4.1.2"
  }
 },
 "nbformat": 4,
 "nbformat_minor": 5
}
